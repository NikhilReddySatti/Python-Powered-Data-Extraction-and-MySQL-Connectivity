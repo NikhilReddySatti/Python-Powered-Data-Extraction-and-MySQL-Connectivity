{
 "cells": [
  {
   "cell_type": "code",
   "execution_count": 1,
   "metadata": {
    "_cell_guid": "b1076dfc-b9ad-4769-8c92-a6c4dae69d19",
    "_uuid": "8f2839f25d086af736a60e9eeb907d3b93b6e0e5",
    "execution": {
     "iopub.execute_input": "2023-11-04T14:32:13.791069Z",
     "iopub.status.busy": "2023-11-04T14:32:13.790657Z",
     "iopub.status.idle": "2023-11-04T14:32:14.249111Z",
     "shell.execute_reply": "2023-11-04T14:32:14.247912Z",
     "shell.execute_reply.started": "2023-11-04T14:32:13.791034Z"
    }
   },
   "outputs": [
    {
     "name": "stdout",
     "output_type": "stream",
     "text": [
      "/kaggle/input/yelp-dataset/Dataset_User_Agreement.pdf\n",
      "/kaggle/input/yelp-dataset/yelp_academic_dataset_review.json\n",
      "/kaggle/input/yelp-dataset/yelp_academic_dataset_checkin.json\n",
      "/kaggle/input/yelp-dataset/yelp_academic_dataset_business.json\n",
      "/kaggle/input/yelp-dataset/yelp_academic_dataset_tip.json\n",
      "/kaggle/input/yelp-dataset/yelp_academic_dataset_user.json\n"
     ]
    }
   ],
   "source": [
    "# This Python 3 environment comes with many helpful analytics libraries installed\n",
    "# It is defined by the kaggle/python Docker image: https://github.com/kaggle/docker-python\n",
    "# For example, here's several helpful packages to load\n",
    "\n",
    "import numpy as np # linear algebra\n",
    "import pandas as pd # data processing, CSV file I/O (e.g. pd.read_csv)\n",
    "\n",
    "# Input data files are available in the read-only \"../input/\" directory\n",
    "# For example, running this (by clicking run or pressing Shift+Enter) will list all files under the input directory\n",
    "\n",
    "import os\n",
    "for dirname, _, filenames in os.walk('/kaggle/input'):\n",
    "    for filename in filenames:\n",
    "        print(os.path.join(dirname, filename))\n",
    "\n",
    "# You can write up to 20GB to the current directory (/kaggle/working/) that gets preserved as output when you create a version using \"Save & Run All\" \n",
    "# You can also write temporary files to /kaggle/temp/, but they won't be saved outside of the current session"
   ]
  },
  {
   "cell_type": "code",
   "execution_count": 2,
   "metadata": {
    "execution": {
     "iopub.execute_input": "2023-11-04T14:32:22.542477Z",
     "iopub.status.busy": "2023-11-04T14:32:22.541975Z",
     "iopub.status.idle": "2023-11-04T14:32:38.922951Z",
     "shell.execute_reply": "2023-11-04T14:32:38.921601Z",
     "shell.execute_reply.started": "2023-11-04T14:32:22.542442Z"
    }
   },
   "outputs": [
    {
     "name": "stdout",
     "output_type": "stream",
     "text": [
      "Collecting PyMySql\n",
      "  Downloading PyMySQL-1.1.0-py3-none-any.whl (44 kB)\n",
      "\u001b[2K     \u001b[90m━━━━━━━━━━━━━━━━━━━━━━━━━━━━━━━━━━━━━━━━\u001b[0m \u001b[32m44.8/44.8 kB\u001b[0m \u001b[31m1.9 MB/s\u001b[0m eta \u001b[36m0:00:00\u001b[0m\n",
      "\u001b[?25hInstalling collected packages: PyMySql\n",
      "Successfully installed PyMySql-1.1.0\n"
     ]
    }
   ],
   "source": [
    "from sqlalchemy import create_engine\n",
    "!pip install PyMySql\n",
    "import pymysql\n",
    "import sqlalchemy\n",
    "import json\n",
    "import pandas as pd\n",
    "from datetime import datetime"
   ]
  },
  {
   "cell_type": "code",
   "execution_count": 3,
   "metadata": {
    "execution": {
     "iopub.execute_input": "2023-11-03T21:19:56.885534Z",
     "iopub.status.busy": "2023-11-03T21:19:56.884967Z",
     "iopub.status.idle": "2023-11-03T21:20:06.531064Z",
     "shell.execute_reply": "2023-11-03T21:20:06.529399Z",
     "shell.execute_reply.started": "2023-11-03T21:19:56.885479Z"
    }
   },
   "outputs": [
    {
     "data": {
      "text/html": [
       "<div>\n",
       "<style scoped>\n",
       "    .dataframe tbody tr th:only-of-type {\n",
       "        vertical-align: middle;\n",
       "    }\n",
       "\n",
       "    .dataframe tbody tr th {\n",
       "        vertical-align: top;\n",
       "    }\n",
       "\n",
       "    .dataframe thead th {\n",
       "        text-align: right;\n",
       "    }\n",
       "</style>\n",
       "<table border=\"1\" class=\"dataframe\">\n",
       "  <thead>\n",
       "    <tr style=\"text-align: right;\">\n",
       "      <th></th>\n",
       "      <th>user_id</th>\n",
       "      <th>business_id</th>\n",
       "      <th>text</th>\n",
       "      <th>date</th>\n",
       "      <th>compliment_count</th>\n",
       "    </tr>\n",
       "  </thead>\n",
       "  <tbody>\n",
       "    <tr>\n",
       "      <th>0</th>\n",
       "      <td>AGNUgVwnZUey3gcPCJ76iw</td>\n",
       "      <td>3uLgwr0qeCNMjKenHJwPGQ</td>\n",
       "      <td>Avengers time with the ladies.</td>\n",
       "      <td>2012-05-18 02:17:21</td>\n",
       "      <td>0</td>\n",
       "    </tr>\n",
       "    <tr>\n",
       "      <th>1</th>\n",
       "      <td>NBN4MgHP9D3cw--SnauTkA</td>\n",
       "      <td>QoezRbYQncpRqyrLH6Iqjg</td>\n",
       "      <td>They have lots of good deserts and tasty cuban...</td>\n",
       "      <td>2013-02-05 18:35:10</td>\n",
       "      <td>0</td>\n",
       "    </tr>\n",
       "    <tr>\n",
       "      <th>2</th>\n",
       "      <td>-copOvldyKh1qr-vzkDEvw</td>\n",
       "      <td>MYoRNLb5chwjQe3c_k37Gg</td>\n",
       "      <td>It's open even when you think it isn't</td>\n",
       "      <td>2013-08-18 00:56:08</td>\n",
       "      <td>0</td>\n",
       "    </tr>\n",
       "    <tr>\n",
       "      <th>3</th>\n",
       "      <td>FjMQVZjSqY8syIO-53KFKw</td>\n",
       "      <td>hV-bABTK-glh5wj31ps_Jw</td>\n",
       "      <td>Very decent fried chicken</td>\n",
       "      <td>2017-06-27 23:05:38</td>\n",
       "      <td>0</td>\n",
       "    </tr>\n",
       "    <tr>\n",
       "      <th>4</th>\n",
       "      <td>ld0AperBXk1h6UbqmM80zw</td>\n",
       "      <td>_uN0OudeJ3Zl_tf6nxg5ww</td>\n",
       "      <td>Appetizers.. platter special for lunch</td>\n",
       "      <td>2012-10-06 19:43:09</td>\n",
       "      <td>0</td>\n",
       "    </tr>\n",
       "  </tbody>\n",
       "</table>\n",
       "</div>"
      ],
      "text/plain": [
       "                  user_id             business_id  \\\n",
       "0  AGNUgVwnZUey3gcPCJ76iw  3uLgwr0qeCNMjKenHJwPGQ   \n",
       "1  NBN4MgHP9D3cw--SnauTkA  QoezRbYQncpRqyrLH6Iqjg   \n",
       "2  -copOvldyKh1qr-vzkDEvw  MYoRNLb5chwjQe3c_k37Gg   \n",
       "3  FjMQVZjSqY8syIO-53KFKw  hV-bABTK-glh5wj31ps_Jw   \n",
       "4  ld0AperBXk1h6UbqmM80zw  _uN0OudeJ3Zl_tf6nxg5ww   \n",
       "\n",
       "                                                text                 date  \\\n",
       "0                     Avengers time with the ladies.  2012-05-18 02:17:21   \n",
       "1  They have lots of good deserts and tasty cuban...  2013-02-05 18:35:10   \n",
       "2             It's open even when you think it isn't  2013-08-18 00:56:08   \n",
       "3                          Very decent fried chicken  2017-06-27 23:05:38   \n",
       "4             Appetizers.. platter special for lunch  2012-10-06 19:43:09   \n",
       "\n",
       "   compliment_count  \n",
       "0                 0  \n",
       "1                 0  \n",
       "2                 0  \n",
       "3                 0  \n",
       "4                 0  "
      ]
     },
     "execution_count": 3,
     "metadata": {},
     "output_type": "execute_result"
    }
   ],
   "source": [
    "tip = []\n",
    "with open('/kaggle/input/yelp-dataset/yelp_academic_dataset_tip.json') as fl:\n",
    "    for i, line in enumerate(fl):\n",
    "        tip.append(json.loads(line))\n",
    "dftip = pd.DataFrame(tip)\n",
    "dftip.head()"
   ]
  },
  {
   "cell_type": "code",
   "execution_count": 5,
   "metadata": {
    "execution": {
     "iopub.execute_input": "2023-11-03T21:21:54.055531Z",
     "iopub.status.busy": "2023-11-03T21:21:54.055182Z",
     "iopub.status.idle": "2023-11-03T21:23:05.685741Z",
     "shell.execute_reply": "2023-11-03T21:23:05.684769Z",
     "shell.execute_reply.started": "2023-11-03T21:21:54.055501Z"
    }
   },
   "outputs": [
    {
     "data": {
      "text/html": [
       "<div>\n",
       "<style scoped>\n",
       "    .dataframe tbody tr th:only-of-type {\n",
       "        vertical-align: middle;\n",
       "    }\n",
       "\n",
       "    .dataframe tbody tr th {\n",
       "        vertical-align: top;\n",
       "    }\n",
       "\n",
       "    .dataframe thead th {\n",
       "        text-align: right;\n",
       "    }\n",
       "</style>\n",
       "<table border=\"1\" class=\"dataframe\">\n",
       "  <thead>\n",
       "    <tr style=\"text-align: right;\">\n",
       "      <th></th>\n",
       "      <th>user_id</th>\n",
       "      <th>name</th>\n",
       "      <th>review_count</th>\n",
       "      <th>yelping_since</th>\n",
       "      <th>useful</th>\n",
       "      <th>funny</th>\n",
       "      <th>cool</th>\n",
       "      <th>elite</th>\n",
       "      <th>friends</th>\n",
       "      <th>fans</th>\n",
       "      <th>...</th>\n",
       "      <th>compliment_more</th>\n",
       "      <th>compliment_profile</th>\n",
       "      <th>compliment_cute</th>\n",
       "      <th>compliment_list</th>\n",
       "      <th>compliment_note</th>\n",
       "      <th>compliment_plain</th>\n",
       "      <th>compliment_cool</th>\n",
       "      <th>compliment_funny</th>\n",
       "      <th>compliment_writer</th>\n",
       "      <th>compliment_photos</th>\n",
       "    </tr>\n",
       "  </thead>\n",
       "  <tbody>\n",
       "    <tr>\n",
       "      <th>0</th>\n",
       "      <td>qVc8ODYU5SZjKXVBgXdI7w</td>\n",
       "      <td>Walker</td>\n",
       "      <td>585</td>\n",
       "      <td>2007-01-25 16:47:26</td>\n",
       "      <td>7217</td>\n",
       "      <td>1259</td>\n",
       "      <td>5994</td>\n",
       "      <td>2007</td>\n",
       "      <td>NSCy54eWehBJyZdG2iE84w, pe42u7DcCH2QmI81NX-8qA...</td>\n",
       "      <td>267</td>\n",
       "      <td>...</td>\n",
       "      <td>65</td>\n",
       "      <td>55</td>\n",
       "      <td>56</td>\n",
       "      <td>18</td>\n",
       "      <td>232</td>\n",
       "      <td>844</td>\n",
       "      <td>467</td>\n",
       "      <td>467</td>\n",
       "      <td>239</td>\n",
       "      <td>180</td>\n",
       "    </tr>\n",
       "    <tr>\n",
       "      <th>1</th>\n",
       "      <td>j14WgRoU_-2ZE1aw1dXrJg</td>\n",
       "      <td>Daniel</td>\n",
       "      <td>4333</td>\n",
       "      <td>2009-01-25 04:35:42</td>\n",
       "      <td>43091</td>\n",
       "      <td>13066</td>\n",
       "      <td>27281</td>\n",
       "      <td>2009,2010,2011,2012,2013,2014,2015,2016,2017,2...</td>\n",
       "      <td>ueRPE0CX75ePGMqOFVj6IQ, 52oH4DrRvzzl8wh5UXyU0A...</td>\n",
       "      <td>3138</td>\n",
       "      <td>...</td>\n",
       "      <td>264</td>\n",
       "      <td>184</td>\n",
       "      <td>157</td>\n",
       "      <td>251</td>\n",
       "      <td>1847</td>\n",
       "      <td>7054</td>\n",
       "      <td>3131</td>\n",
       "      <td>3131</td>\n",
       "      <td>1521</td>\n",
       "      <td>1946</td>\n",
       "    </tr>\n",
       "    <tr>\n",
       "      <th>2</th>\n",
       "      <td>2WnXYQFK0hXEoTxPtV2zvg</td>\n",
       "      <td>Steph</td>\n",
       "      <td>665</td>\n",
       "      <td>2008-07-25 10:41:00</td>\n",
       "      <td>2086</td>\n",
       "      <td>1010</td>\n",
       "      <td>1003</td>\n",
       "      <td>2009,2010,2011,2012,2013</td>\n",
       "      <td>LuO3Bn4f3rlhyHIaNfTlnA, j9B4XdHUhDfTKVecyWQgyA...</td>\n",
       "      <td>52</td>\n",
       "      <td>...</td>\n",
       "      <td>13</td>\n",
       "      <td>10</td>\n",
       "      <td>17</td>\n",
       "      <td>3</td>\n",
       "      <td>66</td>\n",
       "      <td>96</td>\n",
       "      <td>119</td>\n",
       "      <td>119</td>\n",
       "      <td>35</td>\n",
       "      <td>18</td>\n",
       "    </tr>\n",
       "    <tr>\n",
       "      <th>3</th>\n",
       "      <td>SZDeASXq7o05mMNLshsdIA</td>\n",
       "      <td>Gwen</td>\n",
       "      <td>224</td>\n",
       "      <td>2005-11-29 04:38:33</td>\n",
       "      <td>512</td>\n",
       "      <td>330</td>\n",
       "      <td>299</td>\n",
       "      <td>2009,2010,2011</td>\n",
       "      <td>enx1vVPnfdNUdPho6PH_wg, 4wOcvMLtU6a9Lslggq74Vg...</td>\n",
       "      <td>28</td>\n",
       "      <td>...</td>\n",
       "      <td>4</td>\n",
       "      <td>1</td>\n",
       "      <td>6</td>\n",
       "      <td>2</td>\n",
       "      <td>12</td>\n",
       "      <td>16</td>\n",
       "      <td>26</td>\n",
       "      <td>26</td>\n",
       "      <td>10</td>\n",
       "      <td>9</td>\n",
       "    </tr>\n",
       "    <tr>\n",
       "      <th>4</th>\n",
       "      <td>hA5lMy-EnncsH4JoR-hFGQ</td>\n",
       "      <td>Karen</td>\n",
       "      <td>79</td>\n",
       "      <td>2007-01-05 19:40:59</td>\n",
       "      <td>29</td>\n",
       "      <td>15</td>\n",
       "      <td>7</td>\n",
       "      <td></td>\n",
       "      <td>PBK4q9KEEBHhFvSXCUirIw, 3FWPpM7KU1gXeOM_ZbYMbA...</td>\n",
       "      <td>1</td>\n",
       "      <td>...</td>\n",
       "      <td>1</td>\n",
       "      <td>0</td>\n",
       "      <td>0</td>\n",
       "      <td>0</td>\n",
       "      <td>1</td>\n",
       "      <td>1</td>\n",
       "      <td>0</td>\n",
       "      <td>0</td>\n",
       "      <td>0</td>\n",
       "      <td>0</td>\n",
       "    </tr>\n",
       "  </tbody>\n",
       "</table>\n",
       "<p>5 rows × 22 columns</p>\n",
       "</div>"
      ],
      "text/plain": [
       "                  user_id    name  review_count        yelping_since  useful  \\\n",
       "0  qVc8ODYU5SZjKXVBgXdI7w  Walker           585  2007-01-25 16:47:26    7217   \n",
       "1  j14WgRoU_-2ZE1aw1dXrJg  Daniel          4333  2009-01-25 04:35:42   43091   \n",
       "2  2WnXYQFK0hXEoTxPtV2zvg   Steph           665  2008-07-25 10:41:00    2086   \n",
       "3  SZDeASXq7o05mMNLshsdIA    Gwen           224  2005-11-29 04:38:33     512   \n",
       "4  hA5lMy-EnncsH4JoR-hFGQ   Karen            79  2007-01-05 19:40:59      29   \n",
       "\n",
       "   funny   cool                                              elite  \\\n",
       "0   1259   5994                                               2007   \n",
       "1  13066  27281  2009,2010,2011,2012,2013,2014,2015,2016,2017,2...   \n",
       "2   1010   1003                           2009,2010,2011,2012,2013   \n",
       "3    330    299                                     2009,2010,2011   \n",
       "4     15      7                                                      \n",
       "\n",
       "                                             friends  fans  ...  \\\n",
       "0  NSCy54eWehBJyZdG2iE84w, pe42u7DcCH2QmI81NX-8qA...   267  ...   \n",
       "1  ueRPE0CX75ePGMqOFVj6IQ, 52oH4DrRvzzl8wh5UXyU0A...  3138  ...   \n",
       "2  LuO3Bn4f3rlhyHIaNfTlnA, j9B4XdHUhDfTKVecyWQgyA...    52  ...   \n",
       "3  enx1vVPnfdNUdPho6PH_wg, 4wOcvMLtU6a9Lslggq74Vg...    28  ...   \n",
       "4  PBK4q9KEEBHhFvSXCUirIw, 3FWPpM7KU1gXeOM_ZbYMbA...     1  ...   \n",
       "\n",
       "   compliment_more  compliment_profile  compliment_cute  compliment_list  \\\n",
       "0               65                  55               56               18   \n",
       "1              264                 184              157              251   \n",
       "2               13                  10               17                3   \n",
       "3                4                   1                6                2   \n",
       "4                1                   0                0                0   \n",
       "\n",
       "   compliment_note  compliment_plain  compliment_cool  compliment_funny  \\\n",
       "0              232               844              467               467   \n",
       "1             1847              7054             3131              3131   \n",
       "2               66                96              119               119   \n",
       "3               12                16               26                26   \n",
       "4                1                 1                0                 0   \n",
       "\n",
       "   compliment_writer  compliment_photos  \n",
       "0                239                180  \n",
       "1               1521               1946  \n",
       "2                 35                 18  \n",
       "3                 10                  9  \n",
       "4                  0                  0  \n",
       "\n",
       "[5 rows x 22 columns]"
      ]
     },
     "execution_count": 5,
     "metadata": {},
     "output_type": "execute_result"
    }
   ],
   "source": [
    "user = []\n",
    "with open('/kaggle/input/yelp-dataset/yelp_academic_dataset_user.json') as fl:\n",
    "    for i, line in enumerate(fl):\n",
    "        user.append(json.loads(line))\n",
    "dfuser = pd.DataFrame(user)\n",
    "dfuser.head()"
   ]
  },
  {
   "cell_type": "code",
   "execution_count": 3,
   "metadata": {
    "execution": {
     "iopub.execute_input": "2023-11-04T14:33:06.122942Z",
     "iopub.status.busy": "2023-11-04T14:33:06.122479Z",
     "iopub.status.idle": "2023-11-04T14:33:11.515009Z",
     "shell.execute_reply": "2023-11-04T14:33:11.513776Z",
     "shell.execute_reply.started": "2023-11-04T14:33:06.122903Z"
    }
   },
   "outputs": [
    {
     "data": {
      "text/html": [
       "<div>\n",
       "<style scoped>\n",
       "    .dataframe tbody tr th:only-of-type {\n",
       "        vertical-align: middle;\n",
       "    }\n",
       "\n",
       "    .dataframe tbody tr th {\n",
       "        vertical-align: top;\n",
       "    }\n",
       "\n",
       "    .dataframe thead th {\n",
       "        text-align: right;\n",
       "    }\n",
       "</style>\n",
       "<table border=\"1\" class=\"dataframe\">\n",
       "  <thead>\n",
       "    <tr style=\"text-align: right;\">\n",
       "      <th></th>\n",
       "      <th>business_id</th>\n",
       "      <th>name</th>\n",
       "      <th>address</th>\n",
       "      <th>city</th>\n",
       "      <th>state</th>\n",
       "      <th>postal_code</th>\n",
       "      <th>latitude</th>\n",
       "      <th>longitude</th>\n",
       "      <th>stars</th>\n",
       "      <th>review_count</th>\n",
       "      <th>is_open</th>\n",
       "      <th>attributes</th>\n",
       "      <th>categories</th>\n",
       "      <th>hours</th>\n",
       "    </tr>\n",
       "  </thead>\n",
       "  <tbody>\n",
       "    <tr>\n",
       "      <th>0</th>\n",
       "      <td>Pns2l4eNsfO8kk83dixA6A</td>\n",
       "      <td>Abby Rappoport, LAC, CMQ</td>\n",
       "      <td>1616 Chapala St, Ste 2</td>\n",
       "      <td>Santa Barbara</td>\n",
       "      <td>CA</td>\n",
       "      <td>93101</td>\n",
       "      <td>34.426679</td>\n",
       "      <td>-119.711197</td>\n",
       "      <td>5.0</td>\n",
       "      <td>7</td>\n",
       "      <td>0</td>\n",
       "      <td>{'ByAppointmentOnly': 'True'}</td>\n",
       "      <td>Doctors, Traditional Chinese Medicine, Naturop...</td>\n",
       "      <td>None</td>\n",
       "    </tr>\n",
       "    <tr>\n",
       "      <th>1</th>\n",
       "      <td>mpf3x-BjTdTEA3yCZrAYPw</td>\n",
       "      <td>The UPS Store</td>\n",
       "      <td>87 Grasso Plaza Shopping Center</td>\n",
       "      <td>Affton</td>\n",
       "      <td>MO</td>\n",
       "      <td>63123</td>\n",
       "      <td>38.551126</td>\n",
       "      <td>-90.335695</td>\n",
       "      <td>3.0</td>\n",
       "      <td>15</td>\n",
       "      <td>1</td>\n",
       "      <td>{'BusinessAcceptsCreditCards': 'True'}</td>\n",
       "      <td>Shipping Centers, Local Services, Notaries, Ma...</td>\n",
       "      <td>{'Monday': '0:0-0:0', 'Tuesday': '8:0-18:30', ...</td>\n",
       "    </tr>\n",
       "    <tr>\n",
       "      <th>2</th>\n",
       "      <td>tUFrWirKiKi_TAnsVWINQQ</td>\n",
       "      <td>Target</td>\n",
       "      <td>5255 E Broadway Blvd</td>\n",
       "      <td>Tucson</td>\n",
       "      <td>AZ</td>\n",
       "      <td>85711</td>\n",
       "      <td>32.223236</td>\n",
       "      <td>-110.880452</td>\n",
       "      <td>3.5</td>\n",
       "      <td>22</td>\n",
       "      <td>0</td>\n",
       "      <td>{'BikeParking': 'True', 'BusinessAcceptsCredit...</td>\n",
       "      <td>Department Stores, Shopping, Fashion, Home &amp; G...</td>\n",
       "      <td>{'Monday': '8:0-22:0', 'Tuesday': '8:0-22:0', ...</td>\n",
       "    </tr>\n",
       "    <tr>\n",
       "      <th>3</th>\n",
       "      <td>MTSW4McQd7CbVtyjqoe9mw</td>\n",
       "      <td>St Honore Pastries</td>\n",
       "      <td>935 Race St</td>\n",
       "      <td>Philadelphia</td>\n",
       "      <td>PA</td>\n",
       "      <td>19107</td>\n",
       "      <td>39.955505</td>\n",
       "      <td>-75.155564</td>\n",
       "      <td>4.0</td>\n",
       "      <td>80</td>\n",
       "      <td>1</td>\n",
       "      <td>{'RestaurantsDelivery': 'False', 'OutdoorSeati...</td>\n",
       "      <td>Restaurants, Food, Bubble Tea, Coffee &amp; Tea, B...</td>\n",
       "      <td>{'Monday': '7:0-20:0', 'Tuesday': '7:0-20:0', ...</td>\n",
       "    </tr>\n",
       "    <tr>\n",
       "      <th>4</th>\n",
       "      <td>mWMc6_wTdE0EUBKIGXDVfA</td>\n",
       "      <td>Perkiomen Valley Brewery</td>\n",
       "      <td>101 Walnut St</td>\n",
       "      <td>Green Lane</td>\n",
       "      <td>PA</td>\n",
       "      <td>18054</td>\n",
       "      <td>40.338183</td>\n",
       "      <td>-75.471659</td>\n",
       "      <td>4.5</td>\n",
       "      <td>13</td>\n",
       "      <td>1</td>\n",
       "      <td>{'BusinessAcceptsCreditCards': 'True', 'Wheelc...</td>\n",
       "      <td>Brewpubs, Breweries, Food</td>\n",
       "      <td>{'Wednesday': '14:0-22:0', 'Thursday': '16:0-2...</td>\n",
       "    </tr>\n",
       "  </tbody>\n",
       "</table>\n",
       "</div>"
      ],
      "text/plain": [
       "              business_id                      name  \\\n",
       "0  Pns2l4eNsfO8kk83dixA6A  Abby Rappoport, LAC, CMQ   \n",
       "1  mpf3x-BjTdTEA3yCZrAYPw             The UPS Store   \n",
       "2  tUFrWirKiKi_TAnsVWINQQ                    Target   \n",
       "3  MTSW4McQd7CbVtyjqoe9mw        St Honore Pastries   \n",
       "4  mWMc6_wTdE0EUBKIGXDVfA  Perkiomen Valley Brewery   \n",
       "\n",
       "                           address           city state postal_code  \\\n",
       "0           1616 Chapala St, Ste 2  Santa Barbara    CA       93101   \n",
       "1  87 Grasso Plaza Shopping Center         Affton    MO       63123   \n",
       "2             5255 E Broadway Blvd         Tucson    AZ       85711   \n",
       "3                      935 Race St   Philadelphia    PA       19107   \n",
       "4                    101 Walnut St     Green Lane    PA       18054   \n",
       "\n",
       "    latitude   longitude  stars  review_count  is_open  \\\n",
       "0  34.426679 -119.711197    5.0             7        0   \n",
       "1  38.551126  -90.335695    3.0            15        1   \n",
       "2  32.223236 -110.880452    3.5            22        0   \n",
       "3  39.955505  -75.155564    4.0            80        1   \n",
       "4  40.338183  -75.471659    4.5            13        1   \n",
       "\n",
       "                                          attributes  \\\n",
       "0                      {'ByAppointmentOnly': 'True'}   \n",
       "1             {'BusinessAcceptsCreditCards': 'True'}   \n",
       "2  {'BikeParking': 'True', 'BusinessAcceptsCredit...   \n",
       "3  {'RestaurantsDelivery': 'False', 'OutdoorSeati...   \n",
       "4  {'BusinessAcceptsCreditCards': 'True', 'Wheelc...   \n",
       "\n",
       "                                          categories  \\\n",
       "0  Doctors, Traditional Chinese Medicine, Naturop...   \n",
       "1  Shipping Centers, Local Services, Notaries, Ma...   \n",
       "2  Department Stores, Shopping, Fashion, Home & G...   \n",
       "3  Restaurants, Food, Bubble Tea, Coffee & Tea, B...   \n",
       "4                          Brewpubs, Breweries, Food   \n",
       "\n",
       "                                               hours  \n",
       "0                                               None  \n",
       "1  {'Monday': '0:0-0:0', 'Tuesday': '8:0-18:30', ...  \n",
       "2  {'Monday': '8:0-22:0', 'Tuesday': '8:0-22:0', ...  \n",
       "3  {'Monday': '7:0-20:0', 'Tuesday': '7:0-20:0', ...  \n",
       "4  {'Wednesday': '14:0-22:0', 'Thursday': '16:0-2...  "
      ]
     },
     "execution_count": 3,
     "metadata": {},
     "output_type": "execute_result"
    }
   ],
   "source": [
    "business = []\n",
    "with open('/kaggle/input/yelp-dataset/yelp_academic_dataset_business.json') as fl:\n",
    "    for i, line in enumerate(fl):\n",
    "        business.append(json.loads(line))\n",
    "dfbusiness = pd.DataFrame(business)\n",
    "dfbusiness.head()"
   ]
  },
  {
   "cell_type": "code",
   "execution_count": 7,
   "metadata": {
    "execution": {
     "iopub.execute_input": "2023-11-03T00:30:40.950179Z",
     "iopub.status.busy": "2023-11-03T00:30:40.949854Z",
     "iopub.status.idle": "2023-11-03T00:30:45.714810Z",
     "shell.execute_reply": "2023-11-03T00:30:45.713610Z",
     "shell.execute_reply.started": "2023-11-03T00:30:40.950151Z"
    }
   },
   "outputs": [
    {
     "data": {
      "text/html": [
       "<div>\n",
       "<style scoped>\n",
       "    .dataframe tbody tr th:only-of-type {\n",
       "        vertical-align: middle;\n",
       "    }\n",
       "\n",
       "    .dataframe tbody tr th {\n",
       "        vertical-align: top;\n",
       "    }\n",
       "\n",
       "    .dataframe thead th {\n",
       "        text-align: right;\n",
       "    }\n",
       "</style>\n",
       "<table border=\"1\" class=\"dataframe\">\n",
       "  <thead>\n",
       "    <tr style=\"text-align: right;\">\n",
       "      <th></th>\n",
       "      <th>business_id</th>\n",
       "      <th>date</th>\n",
       "    </tr>\n",
       "  </thead>\n",
       "  <tbody>\n",
       "    <tr>\n",
       "      <th>0</th>\n",
       "      <td>---kPU91CF4Lq2-WlRu9Lw</td>\n",
       "      <td>2020-03-13 21:10:56, 2020-06-02 22:18:06, 2020...</td>\n",
       "    </tr>\n",
       "    <tr>\n",
       "      <th>1</th>\n",
       "      <td>--0iUa4sNDFiZFrAdIWhZQ</td>\n",
       "      <td>2010-09-13 21:43:09, 2011-05-04 23:08:15, 2011...</td>\n",
       "    </tr>\n",
       "    <tr>\n",
       "      <th>2</th>\n",
       "      <td>--30_8IhuyMHbSOcNWd6DQ</td>\n",
       "      <td>2013-06-14 23:29:17, 2014-08-13 23:20:22</td>\n",
       "    </tr>\n",
       "    <tr>\n",
       "      <th>3</th>\n",
       "      <td>--7PUidqRWpRSpXebiyxTg</td>\n",
       "      <td>2011-02-15 17:12:00, 2011-07-28 02:46:10, 2012...</td>\n",
       "    </tr>\n",
       "    <tr>\n",
       "      <th>4</th>\n",
       "      <td>--7jw19RH9JKXgFohspgQw</td>\n",
       "      <td>2014-04-21 20:42:11, 2014-04-28 21:04:46, 2014...</td>\n",
       "    </tr>\n",
       "  </tbody>\n",
       "</table>\n",
       "</div>"
      ],
      "text/plain": [
       "              business_id                                               date\n",
       "0  ---kPU91CF4Lq2-WlRu9Lw  2020-03-13 21:10:56, 2020-06-02 22:18:06, 2020...\n",
       "1  --0iUa4sNDFiZFrAdIWhZQ  2010-09-13 21:43:09, 2011-05-04 23:08:15, 2011...\n",
       "2  --30_8IhuyMHbSOcNWd6DQ           2013-06-14 23:29:17, 2014-08-13 23:20:22\n",
       "3  --7PUidqRWpRSpXebiyxTg  2011-02-15 17:12:00, 2011-07-28 02:46:10, 2012...\n",
       "4  --7jw19RH9JKXgFohspgQw  2014-04-21 20:42:11, 2014-04-28 21:04:46, 2014..."
      ]
     },
     "execution_count": 7,
     "metadata": {},
     "output_type": "execute_result"
    }
   ],
   "source": [
    "checkin = []\n",
    "with open('/kaggle/input/yelp-dataset/yelp_academic_dataset_checkin.json') as fl:\n",
    "    for i, line in enumerate(fl):\n",
    "        checkin.append(json.loads(line))\n",
    "dfcheckin = pd.DataFrame(checkin)\n",
    "dfcheckin.head()"
   ]
  },
  {
   "cell_type": "code",
   "execution_count": 4,
   "metadata": {
    "execution": {
     "iopub.execute_input": "2023-11-04T14:36:05.652634Z",
     "iopub.status.busy": "2023-11-04T14:36:05.652232Z",
     "iopub.status.idle": "2023-11-04T14:39:35.538921Z",
     "shell.execute_reply": "2023-11-04T14:39:35.537594Z",
     "shell.execute_reply.started": "2023-11-04T14:36:05.652601Z"
    }
   },
   "outputs": [
    {
     "data": {
      "text/html": [
       "<div>\n",
       "<style scoped>\n",
       "    .dataframe tbody tr th:only-of-type {\n",
       "        vertical-align: middle;\n",
       "    }\n",
       "\n",
       "    .dataframe tbody tr th {\n",
       "        vertical-align: top;\n",
       "    }\n",
       "\n",
       "    .dataframe thead th {\n",
       "        text-align: right;\n",
       "    }\n",
       "</style>\n",
       "<table border=\"1\" class=\"dataframe\">\n",
       "  <thead>\n",
       "    <tr style=\"text-align: right;\">\n",
       "      <th></th>\n",
       "      <th>review_id</th>\n",
       "      <th>user_id</th>\n",
       "      <th>business_id</th>\n",
       "      <th>stars</th>\n",
       "      <th>useful</th>\n",
       "      <th>funny</th>\n",
       "      <th>cool</th>\n",
       "      <th>text</th>\n",
       "      <th>date</th>\n",
       "      <th>Day_of_Week</th>\n",
       "      <th>Year</th>\n",
       "    </tr>\n",
       "  </thead>\n",
       "  <tbody>\n",
       "    <tr>\n",
       "      <th>0</th>\n",
       "      <td>KU_O5udG6zpxOg-VcAEodg</td>\n",
       "      <td>mh_-eMZ6K5RLWhZyISBhwA</td>\n",
       "      <td>XQfwVwDr-v0ZS3_CbbE5Xw</td>\n",
       "      <td>3.0</td>\n",
       "      <td>0</td>\n",
       "      <td>0</td>\n",
       "      <td>0</td>\n",
       "      <td>If you decide to eat here, just be aware it is...</td>\n",
       "      <td>2018-07-07 22:09:11</td>\n",
       "      <td>Saturday</td>\n",
       "      <td>2018</td>\n",
       "    </tr>\n",
       "    <tr>\n",
       "      <th>1</th>\n",
       "      <td>BiTunyQ73aT9WBnpR9DZGw</td>\n",
       "      <td>OyoGAe7OKpv6SyGZT5g77Q</td>\n",
       "      <td>7ATYjTIgM3jUlt4UM3IypQ</td>\n",
       "      <td>5.0</td>\n",
       "      <td>1</td>\n",
       "      <td>0</td>\n",
       "      <td>1</td>\n",
       "      <td>I've taken a lot of spin classes over the year...</td>\n",
       "      <td>2012-01-03 15:28:18</td>\n",
       "      <td>Tuesday</td>\n",
       "      <td>2012</td>\n",
       "    </tr>\n",
       "    <tr>\n",
       "      <th>2</th>\n",
       "      <td>saUsX_uimxRlCVr67Z4Jig</td>\n",
       "      <td>8g_iMtfSiwikVnbP2etR0A</td>\n",
       "      <td>YjUWPpI6HXG530lwP-fb2A</td>\n",
       "      <td>3.0</td>\n",
       "      <td>0</td>\n",
       "      <td>0</td>\n",
       "      <td>0</td>\n",
       "      <td>Family diner. Had the buffet. Eclectic assortm...</td>\n",
       "      <td>2014-02-05 20:30:30</td>\n",
       "      <td>Wednesday</td>\n",
       "      <td>2014</td>\n",
       "    </tr>\n",
       "    <tr>\n",
       "      <th>3</th>\n",
       "      <td>AqPFMleE6RsU23_auESxiA</td>\n",
       "      <td>_7bHUi9Uuf5__HHc_Q8guQ</td>\n",
       "      <td>kxX2SOes4o-D3ZQBkiMRfA</td>\n",
       "      <td>5.0</td>\n",
       "      <td>1</td>\n",
       "      <td>0</td>\n",
       "      <td>1</td>\n",
       "      <td>Wow!  Yummy, different,  delicious.   Our favo...</td>\n",
       "      <td>2015-01-04 00:01:03</td>\n",
       "      <td>Sunday</td>\n",
       "      <td>2015</td>\n",
       "    </tr>\n",
       "    <tr>\n",
       "      <th>4</th>\n",
       "      <td>Sx8TMOWLNuJBWer-0pcmoA</td>\n",
       "      <td>bcjbaE6dDog4jkNY91ncLQ</td>\n",
       "      <td>e4Vwtrqf-wpJfwesgvdgxQ</td>\n",
       "      <td>4.0</td>\n",
       "      <td>1</td>\n",
       "      <td>0</td>\n",
       "      <td>1</td>\n",
       "      <td>Cute interior and owner (?) gave us tour of up...</td>\n",
       "      <td>2017-01-14 20:54:15</td>\n",
       "      <td>Saturday</td>\n",
       "      <td>2017</td>\n",
       "    </tr>\n",
       "  </tbody>\n",
       "</table>\n",
       "</div>"
      ],
      "text/plain": [
       "                review_id                 user_id             business_id  \\\n",
       "0  KU_O5udG6zpxOg-VcAEodg  mh_-eMZ6K5RLWhZyISBhwA  XQfwVwDr-v0ZS3_CbbE5Xw   \n",
       "1  BiTunyQ73aT9WBnpR9DZGw  OyoGAe7OKpv6SyGZT5g77Q  7ATYjTIgM3jUlt4UM3IypQ   \n",
       "2  saUsX_uimxRlCVr67Z4Jig  8g_iMtfSiwikVnbP2etR0A  YjUWPpI6HXG530lwP-fb2A   \n",
       "3  AqPFMleE6RsU23_auESxiA  _7bHUi9Uuf5__HHc_Q8guQ  kxX2SOes4o-D3ZQBkiMRfA   \n",
       "4  Sx8TMOWLNuJBWer-0pcmoA  bcjbaE6dDog4jkNY91ncLQ  e4Vwtrqf-wpJfwesgvdgxQ   \n",
       "\n",
       "   stars  useful  funny  cool  \\\n",
       "0    3.0       0      0     0   \n",
       "1    5.0       1      0     1   \n",
       "2    3.0       0      0     0   \n",
       "3    5.0       1      0     1   \n",
       "4    4.0       1      0     1   \n",
       "\n",
       "                                                text                date  \\\n",
       "0  If you decide to eat here, just be aware it is... 2018-07-07 22:09:11   \n",
       "1  I've taken a lot of spin classes over the year... 2012-01-03 15:28:18   \n",
       "2  Family diner. Had the buffet. Eclectic assortm... 2014-02-05 20:30:30   \n",
       "3  Wow!  Yummy, different,  delicious.   Our favo... 2015-01-04 00:01:03   \n",
       "4  Cute interior and owner (?) gave us tour of up... 2017-01-14 20:54:15   \n",
       "\n",
       "  Day_of_Week  Year  \n",
       "0    Saturday  2018  \n",
       "1     Tuesday  2012  \n",
       "2   Wednesday  2014  \n",
       "3      Sunday  2015  \n",
       "4    Saturday  2017  "
      ]
     },
     "execution_count": 4,
     "metadata": {},
     "output_type": "execute_result"
    }
   ],
   "source": [
    "review = []\n",
    "with open('/kaggle/input/yelp-dataset/yelp_academic_dataset_review.json') as fl:\n",
    "    for i, line in enumerate(fl):\n",
    "        review.append(json.loads(line))\n",
    "dfreview = pd.DataFrame(review)\n",
    "dfreview['date'] = pd.to_datetime(dfreview['date'], format='%Y-%m-%d %H:%M:%S')\n",
    "\n",
    "# Extract the day of the week and create a new column\n",
    "dfreview['Day_of_Week'] = dfreview['date'].dt.strftime('%A')\n",
    "dfreview['Year'] = dfreview['date'].dt.year\n",
    "dfreview.head()"
   ]
  },
  {
   "cell_type": "code",
   "execution_count": 5,
   "metadata": {
    "execution": {
     "iopub.execute_input": "2023-11-04T14:39:40.163040Z",
     "iopub.status.busy": "2023-11-04T14:39:40.162585Z",
     "iopub.status.idle": "2023-11-04T14:42:06.341606Z",
     "shell.execute_reply": "2023-11-04T14:42:06.340364Z",
     "shell.execute_reply.started": "2023-11-04T14:39:40.163003Z"
    }
   },
   "outputs": [
    {
     "name": "stdout",
     "output_type": "stream",
     "text": [
      "Original Business Table:\n",
      "              business_id                      name  \\\n",
      "0  Pns2l4eNsfO8kk83dixA6A  Abby Rappoport, LAC, CMQ   \n",
      "1  mpf3x-BjTdTEA3yCZrAYPw             The UPS Store   \n",
      "2  tUFrWirKiKi_TAnsVWINQQ                    Target   \n",
      "3  MTSW4McQd7CbVtyjqoe9mw        St Honore Pastries   \n",
      "4  mWMc6_wTdE0EUBKIGXDVfA  Perkiomen Valley Brewery   \n",
      "\n",
      "                           address           city state postal_code  \\\n",
      "0           1616 Chapala St, Ste 2  Santa Barbara    CA       93101   \n",
      "1  87 Grasso Plaza Shopping Center         Affton    MO       63123   \n",
      "2             5255 E Broadway Blvd         Tucson    AZ       85711   \n",
      "3                      935 Race St   Philadelphia    PA       19107   \n",
      "4                    101 Walnut St     Green Lane    PA       18054   \n",
      "\n",
      "    latitude   longitude  stars  review_count  is_open  \\\n",
      "0  34.426679 -119.711197    5.0             7        0   \n",
      "1  38.551126  -90.335695    3.0            15        1   \n",
      "2  32.223236 -110.880452    3.5            22        0   \n",
      "3  39.955505  -75.155564    4.0            80        1   \n",
      "4  40.338183  -75.471659    4.5            13        1   \n",
      "\n",
      "                                          categories  \n",
      "0  Doctors, Traditional Chinese Medicine, Naturop...  \n",
      "1  Shipping Centers, Local Services, Notaries, Ma...  \n",
      "2  Department Stores, Shopping, Fashion, Home & G...  \n",
      "3  Restaurants, Food, Bubble Tea, Coffee & Tea, B...  \n",
      "4                          Brewpubs, Breweries, Food  \n",
      "\n",
      "Attributes Table:\n",
      "  ByAppointmentOnly BusinessAcceptsCreditCards BikeParking  \\\n",
      "0              True                        NaN         NaN   \n",
      "1               NaN                       True         NaN   \n",
      "2             False                       True        True   \n",
      "3             False                      False        True   \n",
      "4               NaN                       True        True   \n",
      "\n",
      "  RestaurantsPriceRange2 CoatCheck RestaurantsTakeOut RestaurantsDelivery  \\\n",
      "0                    NaN       NaN                NaN                 NaN   \n",
      "1                    NaN       NaN                NaN                 NaN   \n",
      "2                      2     False              False               False   \n",
      "3                      1       NaN               True               False   \n",
      "4                    NaN       NaN               True                 NaN   \n",
      "\n",
      "  Caters     WiFi                                    BusinessParking  ...  \\\n",
      "0    NaN      NaN                                                NaN  ...   \n",
      "1    NaN      NaN                                                NaN  ...   \n",
      "2  False    u'no'  {'garage': False, 'street': False, 'validated'...  ...   \n",
      "3   True  u'free'  {'garage': False, 'street': True, 'validated':...  ...   \n",
      "4  False      NaN  {'garage': None, 'street': None, 'validated': ...  ...   \n",
      "\n",
      "  BestNights BYOB Corkage BYOBCorkage HairSpecializesIn Open24Hours  \\\n",
      "0        NaN  NaN     NaN         NaN               NaN         NaN   \n",
      "1        NaN  NaN     NaN         NaN               NaN         NaN   \n",
      "2        NaN  NaN     NaN         NaN               NaN         NaN   \n",
      "3        NaN  NaN     NaN         NaN               NaN         NaN   \n",
      "4        NaN  NaN     NaN         NaN               NaN         NaN   \n",
      "\n",
      "  RestaurantsCounterService AgesAllowed DietaryRestrictions  \\\n",
      "0                       NaN         NaN                 NaN   \n",
      "1                       NaN         NaN                 NaN   \n",
      "2                       NaN         NaN                 NaN   \n",
      "3                       NaN         NaN                 NaN   \n",
      "4                       NaN         NaN                 NaN   \n",
      "\n",
      "              business_id  \n",
      "0  Pns2l4eNsfO8kk83dixA6A  \n",
      "1  mpf3x-BjTdTEA3yCZrAYPw  \n",
      "2  tUFrWirKiKi_TAnsVWINQQ  \n",
      "3  MTSW4McQd7CbVtyjqoe9mw  \n",
      "4  mWMc6_wTdE0EUBKIGXDVfA  \n",
      "\n",
      "[5 rows x 40 columns]\n",
      "\n",
      "Hours Table:\n",
      "     Monday    Tuesday  Wednesday   Thursday     Friday   Saturday     Sunday  \\\n",
      "0       NaN        NaN        NaN        NaN        NaN        NaN        NaN   \n",
      "1   0:0-0:0  8:0-18:30  8:0-18:30  8:0-18:30  8:0-18:30   8:0-14:0        NaN   \n",
      "2  8:0-22:0   8:0-22:0   8:0-22:0   8:0-22:0   8:0-23:0   8:0-23:0   8:0-22:0   \n",
      "3  7:0-20:0   7:0-20:0   7:0-20:0   7:0-20:0   7:0-21:0   7:0-21:0   7:0-21:0   \n",
      "4       NaN        NaN  14:0-22:0  16:0-22:0  12:0-22:0  12:0-22:0  12:0-18:0   \n",
      "\n",
      "              business_id  \n",
      "0  Pns2l4eNsfO8kk83dixA6A  \n",
      "1  mpf3x-BjTdTEA3yCZrAYPw  \n",
      "2  tUFrWirKiKi_TAnsVWINQQ  \n",
      "3  MTSW4McQd7CbVtyjqoe9mw  \n",
      "4  mWMc6_wTdE0EUBKIGXDVfA  \n"
     ]
    }
   ],
   "source": [
    "def expand_multivalue_column(df, col_name):\n",
    "    # Convert string representation of dictionaries into actual dictionaries (if needed)\n",
    "    expanded_df = df[col_name].apply(pd.Series)\n",
    "    \n",
    "    # For columns within the expanded dataframe that are still string representations of dictionaries\n",
    "    for sub_col in expanded_df.columns:\n",
    "        if isinstance(expanded_df[sub_col].iloc[0], str) and expanded_df[sub_col].iloc[0].startswith(\"{\"):\n",
    "            sub_df = expanded_df[sub_col].map(eval).apply(pd.Series)\n",
    "            sub_df = sub_df.add_prefix(f'{sub_col}_')\n",
    "            expanded_df = pd.concat([expanded_df.drop([sub_col], axis=1), sub_df], axis=1)\n",
    "    \n",
    "    # Add the business_id column for the foreign key reference\n",
    "    expanded_df['business_id'] = df['business_id']\n",
    "    \n",
    "    return expanded_df\n",
    "\n",
    "# Expand the attributes and hours columns into separate tables\n",
    "attributes_table = expand_multivalue_column(dfbusiness, 'attributes')\n",
    "hours_table = expand_multivalue_column(dfbusiness, 'hours')\n",
    "\n",
    "# Drop the 'attributes' and 'hours' columns from the original business_df\n",
    "dfbusiness = dfbusiness.drop(columns=['attributes', 'hours'])\n",
    "\n",
    "print(\"Original Business Table:\")\n",
    "print(dfbusiness.head())\n",
    "print(\"\\nAttributes Table:\")\n",
    "print(attributes_table.head())\n",
    "print(\"\\nHours Table:\")\n",
    "print(hours_table.head())"
   ]
  },
  {
   "cell_type": "code",
   "execution_count": 6,
   "metadata": {
    "execution": {
     "iopub.execute_input": "2023-11-04T14:43:20.323799Z",
     "iopub.status.busy": "2023-11-04T14:43:20.323347Z",
     "iopub.status.idle": "2023-11-04T14:43:20.599431Z",
     "shell.execute_reply": "2023-11-04T14:43:20.598300Z",
     "shell.execute_reply.started": "2023-11-04T14:43:20.323762Z"
    }
   },
   "outputs": [],
   "source": [
    "def convert_price_range(price_range):\n",
    "    if price_range == '1':\n",
    "        return 1\n",
    "    elif price_range == '2':\n",
    "        return 2\n",
    "    elif price_range == '3':\n",
    "        return 3\n",
    "    elif price_range == '4':\n",
    "        return 4\n",
    "    elif price_range == '0':\n",
    "        return 1\n",
    "    else:\n",
    "        return 1\n",
    "\n",
    "def convert_boolean(boolean):\n",
    "    if boolean == 'True':\n",
    "        return 1\n",
    "    else:\n",
    "        return 0\n",
    "    \n",
    "    \n",
    "attributes_table['RestaurantsPriceRange'] = attributes_table['RestaurantsPriceRange2'].apply(convert_price_range) \n",
    "attributes_table['Dogs_Allowed'] = attributes_table['DogsAllowed'].apply(convert_boolean)"
   ]
  },
  {
   "cell_type": "code",
   "execution_count": 7,
   "metadata": {
    "execution": {
     "iopub.execute_input": "2023-11-04T14:43:23.802464Z",
     "iopub.status.busy": "2023-11-04T14:43:23.802076Z",
     "iopub.status.idle": "2023-11-04T14:43:26.406667Z",
     "shell.execute_reply": "2023-11-04T14:43:26.405352Z",
     "shell.execute_reply.started": "2023-11-04T14:43:23.802433Z"
    }
   },
   "outputs": [
    {
     "name": "stdout",
     "output_type": "stream",
     "text": [
      "Original Business Table:\n",
      "                   business_id                      name  \\\n",
      "0       Pns2l4eNsfO8kk83dixA6A  Abby Rappoport, LAC, CMQ   \n",
      "1       mpf3x-BjTdTEA3yCZrAYPw             The UPS Store   \n",
      "2       tUFrWirKiKi_TAnsVWINQQ                    Target   \n",
      "3       MTSW4McQd7CbVtyjqoe9mw        St Honore Pastries   \n",
      "4       mWMc6_wTdE0EUBKIGXDVfA  Perkiomen Valley Brewery   \n",
      "...                        ...                       ...   \n",
      "150341  IUQopTMmYQG-qRtBk-8QnA              Binh's Nails   \n",
      "150342  c8GjPIOTGVmIemT7j5_SyQ      Wild Birds Unlimited   \n",
      "150343  _QAMST-NrQobXduilWEqSw         Claire's Boutique   \n",
      "150344  mtGm22y5c2UHNXDFAjaPNw  Cyclery & Fitness Center   \n",
      "150345  jV_XOycEzSlTx-65W906pg                   Sic Ink   \n",
      "\n",
      "                                address           city state postal_code  \\\n",
      "0                1616 Chapala St, Ste 2  Santa Barbara    CA       93101   \n",
      "1       87 Grasso Plaza Shopping Center         Affton    MO       63123   \n",
      "2                  5255 E Broadway Blvd         Tucson    AZ       85711   \n",
      "3                           935 Race St   Philadelphia    PA       19107   \n",
      "4                         101 Walnut St     Green Lane    PA       18054   \n",
      "...                                 ...            ...   ...         ...   \n",
      "150341                3388 Gateway Blvd       Edmonton    AB     T6J 5H2   \n",
      "150342               2813 Bransford Ave      Nashville    TN       37204   \n",
      "150343           6020 E 82nd St, Ste 46   Indianapolis    IN       46250   \n",
      "150344                     2472 Troy Rd   Edwardsville    IL       62025   \n",
      "150345            238 Apollo Beach Blvd   Apollo beach    FL       33572   \n",
      "\n",
      "         latitude   longitude  stars  review_count  is_open  \n",
      "0       34.426679 -119.711197    5.0             7        0  \n",
      "1       38.551126  -90.335695    3.0            15        1  \n",
      "2       32.223236 -110.880452    3.5            22        0  \n",
      "3       39.955505  -75.155564    4.0            80        1  \n",
      "4       40.338183  -75.471659    4.5            13        1  \n",
      "...           ...         ...    ...           ...      ...  \n",
      "150341  53.468419 -113.492054    3.0            13        1  \n",
      "150342  36.115118  -86.766925    4.0             5        1  \n",
      "150343  39.908707  -86.065088    3.5             8        1  \n",
      "150344  38.782351  -89.950558    4.0            24        1  \n",
      "150345  27.771002  -82.394910    4.5             9        1  \n",
      "\n",
      "[150346 rows x 11 columns]\n",
      "\n",
      "Categories Table:\n",
      "                   business_id                      category\n",
      "0       Pns2l4eNsfO8kk83dixA6A                       Doctors\n",
      "1       mpf3x-BjTdTEA3yCZrAYPw  Traditional Chinese Medicine\n",
      "2       tUFrWirKiKi_TAnsVWINQQ         Naturopathic/Holistic\n",
      "3       MTSW4McQd7CbVtyjqoe9mw                   Acupuncture\n",
      "4       mWMc6_wTdE0EUBKIGXDVfA              Health & Medical\n",
      "...                        ...                           ...\n",
      "668587                     NaN                         Bikes\n",
      "668588                     NaN                 Beauty & Spas\n",
      "668589                     NaN              Permanent Makeup\n",
      "668590                     NaN                      Piercing\n",
      "668591                     NaN                        Tattoo\n",
      "\n",
      "[668592 rows x 2 columns]\n"
     ]
    }
   ],
   "source": [
    "# Split the 'categories' column by commas and transform to long format\n",
    "categories_table = dfbusiness['categories'].str.split(', ', expand=True).stack().reset_index()\n",
    "categories_table.columns = ['business_id', 'category_number', 'category']\n",
    "categories_table['business_id'] = dfbusiness['business_id']\n",
    "categories_table = categories_table[['business_id', 'category']]  # Drop the category_number column\n",
    "\n",
    "# Drop the 'categories' column from the original business_df\n",
    "dfbusiness = dfbusiness.drop(columns=['categories'])\n",
    "\n",
    "print(\"Original Business Table:\")\n",
    "print(dfbusiness)\n",
    "print(\"\\nCategories Table:\")\n",
    "print(categories_table)"
   ]
  },
  {
   "cell_type": "code",
   "execution_count": 13,
   "metadata": {
    "execution": {
     "iopub.execute_input": "2023-11-02T21:19:12.824633Z",
     "iopub.status.busy": "2023-11-02T21:19:12.824125Z",
     "iopub.status.idle": "2023-11-02T21:20:23.327532Z",
     "shell.execute_reply": "2023-11-02T21:20:23.325829Z",
     "shell.execute_reply.started": "2023-11-02T21:19:12.824598Z"
    }
   },
   "outputs": [
    {
     "name": "stdout",
     "output_type": "stream",
     "text": [
      "  garage street validated    lot  valet             business_id\n",
      "0    NaN    NaN       NaN    NaN    NaN  Pns2l4eNsfO8kk83dixA6A\n",
      "1    NaN    NaN       NaN    NaN    NaN  mpf3x-BjTdTEA3yCZrAYPw\n",
      "2  False  False     False   True  False  tUFrWirKiKi_TAnsVWINQQ\n",
      "3  False   True     False  False  False  MTSW4McQd7CbVtyjqoe9mw\n",
      "4   None   None      None   True  False  mWMc6_wTdE0EUBKIGXDVfA\n"
     ]
    }
   ],
   "source": [
    "import ast\n",
    "Parking_df = pd.DataFrame(attributes_table['BusinessParking'])\n",
    "def safe_eval(text):\n",
    "    try:\n",
    "        return ast.literal_eval(text)\n",
    "    except (SyntaxError, ValueError):\n",
    "        return None\n",
    " \n",
    "# Apply the custom function to handle the text data\n",
    "Parking_df['BusinessParking'] = Parking_df['BusinessParking'].apply(safe_eval)\n",
    "Parking_df = pd.concat([Parking_df, Parking_df['BusinessParking'].apply(pd.Series)], axis=1)\n",
    "Parking_df = Parking_df.drop(columns='BusinessParking')\n",
    "Parking_df['business_id'] = attributes_table['business_id']\n",
    "print(Parking_df.head())"
   ]
  },
  {
   "cell_type": "code",
   "execution_count": 14,
   "metadata": {
    "execution": {
     "iopub.execute_input": "2023-11-02T21:24:08.809330Z",
     "iopub.status.busy": "2023-11-02T21:24:08.806592Z",
     "iopub.status.idle": "2023-11-02T21:25:32.525499Z",
     "shell.execute_reply": "2023-11-02T21:25:32.524200Z",
     "shell.execute_reply.started": "2023-11-02T21:24:08.809271Z"
    }
   },
   "outputs": [
    {
     "name": "stdout",
     "output_type": "stream",
     "text": [
      "  romantic intimate touristy hipster divey classy trendy upscale casual  \\\n",
      "0      NaN      NaN      NaN     NaN   NaN    NaN    NaN     NaN    NaN   \n",
      "1      NaN      NaN      NaN     NaN   NaN    NaN    NaN     NaN    NaN   \n",
      "2      NaN      NaN      NaN     NaN   NaN    NaN    NaN     NaN    NaN   \n",
      "3      NaN      NaN      NaN     NaN   NaN    NaN    NaN     NaN    NaN   \n",
      "4      NaN      NaN      NaN     NaN   NaN    NaN    NaN     NaN    NaN   \n",
      "\n",
      "              business_id  \n",
      "0  Pns2l4eNsfO8kk83dixA6A  \n",
      "1  mpf3x-BjTdTEA3yCZrAYPw  \n",
      "2  tUFrWirKiKi_TAnsVWINQQ  \n",
      "3  MTSW4McQd7CbVtyjqoe9mw  \n",
      "4  mWMc6_wTdE0EUBKIGXDVfA  \n"
     ]
    }
   ],
   "source": [
    "Ambience_df = pd.DataFrame(attributes_table['Ambience'])\n",
    " \n",
    "# Apply the custom function to handle the text data\n",
    "Ambience_df['Ambience'] = Ambience_df['Ambience'].apply(safe_eval)\n",
    "Ambience_df = pd.concat([Ambience_df, Ambience_df['Ambience'].apply(pd.Series)], axis=1)\n",
    "Ambience_df = Ambience_df.drop(columns='Ambience')\n",
    "Ambience_df['business_id'] = attributes_table['business_id']\n",
    "print(Ambience_df.head())"
   ]
  },
  {
   "cell_type": "code",
   "execution_count": 15,
   "metadata": {
    "execution": {
     "iopub.execute_input": "2023-11-02T21:25:32.565697Z",
     "iopub.status.busy": "2023-11-02T21:25:32.565099Z",
     "iopub.status.idle": "2023-11-02T21:26:51.687434Z",
     "shell.execute_reply": "2023-11-02T21:26:51.685804Z",
     "shell.execute_reply.started": "2023-11-02T21:25:32.565639Z"
    }
   },
   "outputs": [
    {
     "name": "stdout",
     "output_type": "stream",
     "text": [
      "  dessert latenight lunch dinner brunch breakfast             business_id\n",
      "0     NaN       NaN   NaN    NaN    NaN       NaN  Pns2l4eNsfO8kk83dixA6A\n",
      "1     NaN       NaN   NaN    NaN    NaN       NaN  mpf3x-BjTdTEA3yCZrAYPw\n",
      "2     NaN       NaN   NaN    NaN    NaN       NaN  tUFrWirKiKi_TAnsVWINQQ\n",
      "3     NaN       NaN   NaN    NaN    NaN       NaN  MTSW4McQd7CbVtyjqoe9mw\n",
      "4     NaN       NaN   NaN    NaN    NaN       NaN  mWMc6_wTdE0EUBKIGXDVfA\n"
     ]
    }
   ],
   "source": [
    "GoodForMeal_df = pd.DataFrame(attributes_table['GoodForMeal'])\n",
    " \n",
    "# Apply the custom function to handle the text data\n",
    "GoodForMeal_df['GoodForMeal'] = GoodForMeal_df['GoodForMeal'].apply(safe_eval)\n",
    "GoodForMeal_df = pd.concat([GoodForMeal_df, GoodForMeal_df['GoodForMeal'].apply(pd.Series)], axis=1)\n",
    "GoodForMeal_df = GoodForMeal_df.drop(columns='GoodForMeal')\n",
    "GoodForMeal_df['business_id'] = attributes_table['business_id']\n",
    "print(GoodForMeal_df.head())"
   ]
  },
  {
   "cell_type": "code",
   "execution_count": null,
   "metadata": {
    "execution": {
     "iopub.status.busy": "2023-11-02T20:55:07.031748Z",
     "iopub.status.idle": "2023-11-02T20:55:07.032054Z",
     "shell.execute_reply": "2023-11-02T20:55:07.031923Z",
     "shell.execute_reply.started": "2023-11-02T20:55:07.031907Z"
    }
   },
   "outputs": [],
   "source": [
    "Music_df = pd.DataFrame(attributes_table['Music'])\n",
    " \n",
    "# Apply the custom function to handle the text data\n",
    "Music_df['Music'] = Music_df['Music'].apply(safe_eval)\n",
    "Music_df = pd.concat([Music_df, Music_df['Music'].apply(pd.Series)], axis=1)\n",
    "Music_df = Music_df.drop(columns='Music')\n",
    "Music_df['business_id'] = attributes_table['business_id']\n",
    "print(Music_df.head())"
   ]
  },
  {
   "cell_type": "code",
   "execution_count": null,
   "metadata": {
    "execution": {
     "iopub.status.busy": "2023-11-02T20:55:07.033148Z",
     "iopub.status.idle": "2023-11-02T20:55:07.033491Z",
     "shell.execute_reply": "2023-11-02T20:55:07.033327Z",
     "shell.execute_reply.started": "2023-11-02T20:55:07.033313Z"
    }
   },
   "outputs": [],
   "source": [
    "BestNights_df = pd.DataFrame(attributes_table['BestNights'])\n",
    " \n",
    "# Apply the custom function to handle the text data\n",
    "BestNights_df['BestNights'] = BestNights_df['BestNights'].apply(safe_eval)\n",
    "BestNights_df = pd.concat([BestNights_df, BestNights_df['BestNights'].apply(pd.Series)], axis=1)\n",
    "BestNights_df = BestNights_df.drop(columns='BestNights')\n",
    "BestNights_df['business_id'] = attributes_table['business_id']\n",
    "print(BestNights_df.head())"
   ]
  },
  {
   "cell_type": "code",
   "execution_count": null,
   "metadata": {
    "execution": {
     "iopub.status.busy": "2023-11-02T20:55:07.034457Z",
     "iopub.status.idle": "2023-11-02T20:55:07.034757Z",
     "shell.execute_reply": "2023-11-02T20:55:07.034628Z",
     "shell.execute_reply.started": "2023-11-02T20:55:07.034613Z"
    }
   },
   "outputs": [],
   "source": [
    "HairSpecializesIn_df = pd.DataFrame(attributes_table['HairSpecializesIn'])\n",
    " \n",
    "# Apply the custom function to handle the text data\n",
    "HairSpecializesIn_df['HairSpecializesIn'] = HairSpecializesIn_df['HairSpecializesIn'].apply(safe_eval)\n",
    "HairSpecializesIn_df = pd.concat([HairSpecializesIn_df, HairSpecializesIn_df['HairSpecializesIn'].apply(pd.Series)], axis=1)\n",
    "HairSpecializesIn_df = HairSpecializesIn_df.drop(columns='HairSpecializesIn')\n",
    "HairSpecializesIn_df['business_id'] = attributes_table['business_id']\n",
    "print(HairSpecializesIn_df.head())"
   ]
  },
  {
   "cell_type": "code",
   "execution_count": null,
   "metadata": {
    "execution": {
     "iopub.status.busy": "2023-11-02T20:55:07.036241Z",
     "iopub.status.idle": "2023-11-02T20:55:07.036591Z",
     "shell.execute_reply": "2023-11-02T20:55:07.036436Z",
     "shell.execute_reply.started": "2023-11-02T20:55:07.036414Z"
    }
   },
   "outputs": [],
   "source": [
    "DietaryRestrictions_df = pd.DataFrame(attributes_table['DietaryRestrictions'])\n",
    " \n",
    "# Apply the custom function to handle the text data\n",
    "DietaryRestrictions_df['DietaryRestrictions'] = DietaryRestrictions_df['DietaryRestrictions'].apply(safe_eval)\n",
    "DietaryRestrictions_df = pd.concat([DietaryRestrictions_df, DietaryRestrictions_df['DietaryRestrictions'].apply(pd.Series)], axis=1)\n",
    "DietaryRestrictions_df = DietaryRestrictions_df.drop(columns='DietaryRestrictions')\n",
    "DietaryRestrictions_df['business_id'] = attributes_table['business_id']\n",
    "print(DietaryRestrictions_df.head())"
   ]
  },
  {
   "cell_type": "code",
   "execution_count": 22,
   "metadata": {
    "execution": {
     "iopub.execute_input": "2023-11-04T14:49:27.739725Z",
     "iopub.status.busy": "2023-11-04T14:49:27.739274Z",
     "iopub.status.idle": "2023-11-04T14:49:27.745121Z",
     "shell.execute_reply": "2023-11-04T14:49:27.744047Z",
     "shell.execute_reply.started": "2023-11-04T14:49:27.739674Z"
    }
   },
   "outputs": [],
   "source": [
    "#The code initially written for the city of \"Chicago\" did not render results due \n",
    "#to lack of data in the yelp database. I have retained the same queries in python form \n",
    "#but inorder to see the visual data I have updated this to \"Santa Barbara\"."
   ]
  },
  {
   "cell_type": "code",
   "execution_count": 8,
   "metadata": {
    "execution": {
     "iopub.execute_input": "2023-11-04T14:43:33.152985Z",
     "iopub.status.busy": "2023-11-04T14:43:33.152158Z",
     "iopub.status.idle": "2023-11-04T14:43:33.355906Z",
     "shell.execute_reply": "2023-11-04T14:43:33.354760Z",
     "shell.execute_reply.started": "2023-11-04T14:43:33.152942Z"
    }
   },
   "outputs": [],
   "source": [
    "# Businesses in Santa Barbara\n",
    "condition1 = dfbusiness['city'] == 'Santa Barbara'\n",
    "SantaBarbara_businesses = dfbusiness[condition1]\n",
    "# Categories restricted to Restaurants\n",
    "condition2 = categories_table['category'] == 'Restaurants'\n",
    "restaurants_businesses = categories_table[condition2]\n",
    "#Joined DF of Resaturants in Santa Barbara\n",
    "santabarbara_restaurants_df = pd.merge(SantaBarbara_businesses, restaurants_businesses, on='business_id')"
   ]
  },
  {
   "cell_type": "code",
   "execution_count": 9,
   "metadata": {
    "execution": {
     "iopub.execute_input": "2023-11-04T14:43:36.893020Z",
     "iopub.status.busy": "2023-11-04T14:43:36.892582Z",
     "iopub.status.idle": "2023-11-04T14:43:37.152719Z",
     "shell.execute_reply": "2023-11-04T14:43:37.151484Z",
     "shell.execute_reply.started": "2023-11-04T14:43:36.892984Z"
    }
   },
   "outputs": [
    {
     "name": "stdout",
     "output_type": "stream",
     "text": [
      "              business_id                            name  \\\n",
      "0  M0XSSHqrASOnhgbWDJIpQA                  Herb Import Co   \n",
      "1  8wGISYjYkE2tSqn3cDMu8A                Nifty Car Rental   \n",
      "2  WKMJwqnfZKsAae75RMP6jA  Roast Coffeehouse and Wine Bar   \n",
      "3  qhDdDeI3K4jy2KyzwFN53w      Barnes & Noble Booksellers   \n",
      "4  4iRzR7OaS-QaSXuvYxEGKA                       Super Dog   \n",
      "\n",
      "                    address          city state postal_code   latitude  \\\n",
      "0              712 Adams St   New Orleans    LA       70118  29.941468   \n",
      "1           1241 Airline Dr        Kenner    LA       70062  29.981183   \n",
      "2       10359 104 Street NW      Edmonton    AB     T5J 1B9  53.546045   \n",
      "3  8675 River Crossing Blvd  Indianapolis    IN       46240  39.913820   \n",
      "4      1160 Gallatin Pike S     Nashville    TN       37115  36.248570   \n",
      "\n",
      "    longitude  stars  review_count  is_open      category  \n",
      "0  -90.129953    4.0             5        1   Restaurants  \n",
      "1  -90.254012    3.5            14        1          Food  \n",
      "2 -113.499169    4.0            40        0  Coffee & Tea  \n",
      "3  -86.105739    4.0            38        1      Bakeries  \n",
      "4  -86.719986    4.0             6        0          Food  \n"
     ]
    }
   ],
   "source": [
    "filter_values = ['Bars','Bakeries','Coffee & Tea','Coffee Roasteries','Desserts','Empanadas','Food','Food Stands','Food Tours','Food Trucks','Ice Cream & Frozen Yogurt','Indian','Kebab','Restaurants']\n",
    "categories_businesses = categories_table[categories_table['category'].isin(filter_values)]\n",
    "business_categories = pd.merge(dfbusiness,categories_businesses, on='business_id')\n",
    "print(business_categories.head())"
   ]
  },
  {
   "cell_type": "code",
   "execution_count": 11,
   "metadata": {
    "execution": {
     "iopub.execute_input": "2023-11-04T14:43:57.182790Z",
     "iopub.status.busy": "2023-11-04T14:43:57.182195Z",
     "iopub.status.idle": "2023-11-04T14:44:01.284014Z",
     "shell.execute_reply": "2023-11-04T14:44:01.282795Z",
     "shell.execute_reply.started": "2023-11-04T14:43:57.182749Z"
    }
   },
   "outputs": [
    {
     "name": "stdout",
     "output_type": "stream",
     "text": [
      "  Day_of_Week  Count\n",
      "1      Monday   2961\n",
      "3      Sunday   2900\n",
      "5     Tuesday   2610\n",
      "2    Saturday   2525\n",
      "6   Wednesday   2483\n",
      "4    Thursday   2394\n",
      "0      Friday   2364\n"
     ]
    }
   ],
   "source": [
    "# 1. Understanding day-based reviews count to predict demand days for restaurants in santa barbara\n",
    "santabarbara_restaurants_reviews_df = pd.merge(santabarbara_restaurants_df, dfreview, on='business_id')\n",
    "grouped_df = santabarbara_restaurants_reviews_df.groupby('Day_of_Week').size().reset_index(name='Count')\n",
    "sorted_grouped_df = grouped_df.sort_values(by='Count', ascending=False)\n",
    "print(sorted_grouped_df)\n"
   ]
  },
  {
   "cell_type": "code",
   "execution_count": 12,
   "metadata": {
    "execution": {
     "iopub.execute_input": "2023-11-04T14:44:03.023611Z",
     "iopub.status.busy": "2023-11-04T14:44:03.022451Z",
     "iopub.status.idle": "2023-11-04T14:44:03.457392Z",
     "shell.execute_reply": "2023-11-04T14:44:03.456081Z",
     "shell.execute_reply.started": "2023-11-04T14:44:03.023565Z"
    }
   },
   "outputs": [
    {
     "name": "stdout",
     "output_type": "stream",
     "text": [
      "                         weighted_avg_rating\n",
      "name                                        \n",
      "19 Blue Salon                            4.5\n",
      "4 Eggs & Pizza                           5.0\n",
      "805 Deli                                 4.0\n",
      "Ace Plumbing                             5.0\n",
      "Acupuncture Integration                  5.0\n"
     ]
    }
   ],
   "source": [
    "# 2. Top businesses by weighted average:\n",
    "grouped_df5 = santabarbara_restaurants_df.groupby('name').agg(\n",
    "    weighted_avg_rating=('stars', lambda x: (x * santabarbara_restaurants_df.loc[x.index, 'review_count']).sum() / santabarbara_restaurants_df.loc[x.index, 'review_count'].sum())\n",
    ")\n",
    "print(grouped_df5.head())"
   ]
  },
  {
   "cell_type": "code",
   "execution_count": 13,
   "metadata": {
    "execution": {
     "iopub.execute_input": "2023-11-04T14:44:06.870397Z",
     "iopub.status.busy": "2023-11-04T14:44:06.869894Z",
     "iopub.status.idle": "2023-11-04T14:44:06.898475Z",
     "shell.execute_reply": "2023-11-04T14:44:06.896933Z",
     "shell.execute_reply.started": "2023-11-04T14:44:06.870349Z"
    }
   },
   "outputs": [
    {
     "name": "stdout",
     "output_type": "stream",
     "text": [
      "              name  Year  Average_Rating\n",
      "0    19 Blue Salon  2008        4.666667\n",
      "1    19 Blue Salon  2009        4.666667\n",
      "2    19 Blue Salon  2010        4.538462\n",
      "3    19 Blue Salon  2011        4.000000\n",
      "4    19 Blue Salon  2012        4.600000\n",
      "5    19 Blue Salon  2013        4.500000\n",
      "6    19 Blue Salon  2014        4.833333\n",
      "7    19 Blue Salon  2015        5.000000\n",
      "8    19 Blue Salon  2016        4.416667\n",
      "9    19 Blue Salon  2017        4.800000\n",
      "10   19 Blue Salon  2018        5.000000\n",
      "11   19 Blue Salon  2019        4.500000\n",
      "12   19 Blue Salon  2020        3.000000\n",
      "13  4 Eggs & Pizza  2021        4.813559\n",
      "14  4 Eggs & Pizza  2022        5.000000\n",
      "15        805 Deli  2010        5.000000\n",
      "16        805 Deli  2011        5.000000\n",
      "17        805 Deli  2012        3.800000\n",
      "18        805 Deli  2013        4.285714\n",
      "19        805 Deli  2014        3.000000\n"
     ]
    }
   ],
   "source": [
    "# 3. Restaurants ratings over the years for restaurants in santa barbara\n",
    "\n",
    "grouped_df2 = santabarbara_restaurants_reviews_df.groupby(['name','Year'])['stars_y'].mean().reset_index(name='Average_Rating').sort_values(by=['name', 'Year'])\n",
    "print(grouped_df2.head(20))"
   ]
  },
  {
   "cell_type": "code",
   "execution_count": 14,
   "metadata": {
    "execution": {
     "iopub.execute_input": "2023-11-04T14:44:09.411605Z",
     "iopub.status.busy": "2023-11-04T14:44:09.411226Z",
     "iopub.status.idle": "2023-11-04T14:44:15.384921Z",
     "shell.execute_reply": "2023-11-04T14:44:15.384021Z",
     "shell.execute_reply.started": "2023-11-04T14:44:09.411574Z"
    }
   },
   "outputs": [
    {
     "name": "stdout",
     "output_type": "stream",
     "text": [
      "city\n",
      "Philadelphia    157002\n",
      "New Orleans     114020\n",
      "Tampa            74961\n",
      "Nashville        74738\n",
      "Tucson           66655\n",
      "Name: review_id, dtype: int64\n"
     ]
    }
   ],
   "source": [
    "# 4. Average number of reviews per city:\n",
    "business_categories_reviews = pd.merge(business_categories,dfreview, on='business_id')\n",
    "grouped_df3 = business_categories_reviews.groupby('city')['review_id'].count().sort_values(ascending=False)\n",
    "print(grouped_df3.head())"
   ]
  },
  {
   "cell_type": "code",
   "execution_count": 15,
   "metadata": {
    "execution": {
     "iopub.execute_input": "2023-11-04T14:44:45.872145Z",
     "iopub.status.busy": "2023-11-04T14:44:45.871738Z",
     "iopub.status.idle": "2023-11-04T14:44:45.921463Z",
     "shell.execute_reply": "2023-11-04T14:44:45.920268Z",
     "shell.execute_reply.started": "2023-11-04T14:44:45.872111Z"
    }
   },
   "outputs": [
    {
     "name": "stdout",
     "output_type": "stream",
     "text": [
      "                     category  average_rating\n",
      "0                    Bakeries        4.041667\n",
      "1                        Bars        4.113333\n",
      "2                Coffee & Tea        4.052632\n",
      "3           Coffee Roasteries        4.500000\n",
      "4                    Desserts        4.192308\n",
      "5                   Empanadas        4.000000\n",
      "6                        Food        4.136054\n",
      "7                 Food Stands        3.833333\n",
      "8                 Food Trucks        4.041667\n",
      "9   Ice Cream & Frozen Yogurt        4.115385\n",
      "10                     Indian        3.000000\n",
      "11                      Kebab        1.500000\n",
      "12                Restaurants        4.054422\n"
     ]
    }
   ],
   "source": [
    "# 5. Calculate the average ratings of restaurant categories:\n",
    "\n",
    "#Joined DF of Resaturant Categories in Santa Barbara\n",
    "santabarbara_categories_df = pd.merge(SantaBarbara_businesses, categories_businesses, on='business_id')\n",
    "santabarbara_categories_grouped_df = santabarbara_categories_df.groupby('category')['stars'].mean().reset_index(name='average_rating')\n",
    "print(santabarbara_categories_grouped_df)"
   ]
  },
  {
   "cell_type": "code",
   "execution_count": 16,
   "metadata": {
    "execution": {
     "iopub.execute_input": "2023-11-04T14:44:49.702041Z",
     "iopub.status.busy": "2023-11-04T14:44:49.701575Z",
     "iopub.status.idle": "2023-11-04T14:44:50.038092Z",
     "shell.execute_reply": "2023-11-04T14:44:50.036958Z",
     "shell.execute_reply.started": "2023-11-04T14:44:49.702005Z"
    }
   },
   "outputs": [
    {
     "name": "stdout",
     "output_type": "stream",
     "text": [
      "                     category  Max_Price  Min_Price  Avg_Price\n",
      "0                    Bakeries          3          1   1.541667\n",
      "1                        Bars          3          1   1.453333\n",
      "2                Coffee & Tea          3          1   1.368421\n",
      "3           Coffee Roasteries          1          1   1.000000\n",
      "4                    Desserts          4          1   1.692308\n",
      "5                   Empanadas          1          1   1.000000\n",
      "6                        Food          3          1   1.401361\n",
      "7                 Food Stands          1          1   1.000000\n",
      "8                 Food Trucks          3          1   1.666667\n",
      "9   Ice Cream & Frozen Yogurt          3          1   1.461538\n",
      "10                     Indian          2          1   1.333333\n",
      "11                      Kebab          2          2   2.000000\n",
      "12                Restaurants          4          1   1.482993\n"
     ]
    }
   ],
   "source": [
    "# 6. Calculate the average pricing of restaurants:\n",
    "santabarbara_categories_attributes_df = pd.merge(santabarbara_categories_df, attributes_table, on='business_id')\n",
    "santabarbara_categories_attributes_group_df = santabarbara_categories_attributes_df.groupby('category').agg(\n",
    "    Max_Price=('RestaurantsPriceRange', 'max'),\n",
    "    Min_Price=('RestaurantsPriceRange', 'min'),\n",
    "    Avg_Price=('RestaurantsPriceRange', 'mean')\n",
    ").reset_index()\n",
    "print(santabarbara_categories_attributes_group_df)"
   ]
  },
  {
   "cell_type": "code",
   "execution_count": 17,
   "metadata": {
    "execution": {
     "iopub.execute_input": "2023-11-04T14:44:54.042474Z",
     "iopub.status.busy": "2023-11-04T14:44:54.042022Z",
     "iopub.status.idle": "2023-11-04T14:44:54.064102Z",
     "shell.execute_reply": "2023-11-04T14:44:54.062995Z",
     "shell.execute_reply.started": "2023-11-04T14:44:54.042436Z"
    }
   },
   "outputs": [
    {
     "name": "stdout",
     "output_type": "stream",
     "text": [
      "                           pet_friendly  percentage_pet_friendly\n",
      "category                                                        \n",
      "Bakeries                              2                 8.333333\n",
      "Bars                                  5                 6.666667\n",
      "Coffee & Tea                          5                13.157895\n",
      "Coffee Roasteries                     0                 0.000000\n",
      "Desserts                              2                15.384615\n",
      "Empanadas                             0                 0.000000\n",
      "Food                                  9                 6.122449\n",
      "Food Stands                           0                 0.000000\n",
      "Food Trucks                           0                 0.000000\n",
      "Ice Cream & Frozen Yogurt             2                15.384615\n",
      "Indian                                0                 0.000000\n",
      "Kebab                                 0                 0.000000\n",
      "Restaurants                          25                 8.503401\n"
     ]
    }
   ],
   "source": [
    "# 7. Analysis on pet friendliness :\n",
    "grouped_df4 = santabarbara_categories_attributes_df.groupby('category').agg(\n",
    "    pet_friendly=('Dogs_Allowed', 'sum'),\n",
    "    percentage_pet_friendly=('Dogs_Allowed', lambda x: (x.mean() * 100)))\n",
    "print(grouped_df4)"
   ]
  },
  {
   "cell_type": "code",
   "execution_count": 21,
   "metadata": {
    "execution": {
     "iopub.execute_input": "2023-11-04T14:46:43.583643Z",
     "iopub.status.busy": "2023-11-04T14:46:43.583177Z",
     "iopub.status.idle": "2023-11-04T14:46:44.304413Z",
     "shell.execute_reply": "2023-11-04T14:46:44.303181Z",
     "shell.execute_reply.started": "2023-11-04T14:46:43.583605Z"
    }
   },
   "outputs": [
    {
     "name": "stdout",
     "output_type": "stream",
     "text": [
      "                    rating_range  business_count\n",
      "0     Average Rated (2.5 - 3.49)          180231\n",
      "1         Highly Rated (4.5 - 5)          293787\n",
      "2           Low Rated (1 - 2.49)           60768\n",
      "3  Moderately Rated (3.5 - 4.49)          619496\n"
     ]
    }
   ],
   "source": [
    "# 8. Distribution of ratings, looking at the number of restaurants that fall into different rating ranges\n",
    "def categorize_stars(stars):\n",
    "    if stars >= 4.5:\n",
    "        return 'Highly Rated (4.5 - 5)'\n",
    "    elif stars >= 3.5:\n",
    "        return 'Moderately Rated (3.5 - 4.49)'\n",
    "    elif stars >= 2.5:\n",
    "        return 'Average Rated (2.5 - 3.49)'\n",
    "    else:\n",
    "        return 'Low Rated (1 - 2.49)'\n",
    "    \n",
    "    \n",
    "business_categories_reviews['rating_range'] = business_categories_reviews['stars_x'].apply(categorize_stars)\n",
    "grouped_df6 = business_categories_reviews.groupby('rating_range')['business_id'].count().reset_index()\n",
    "grouped_df6 = grouped_df6.rename(columns={'business_id': 'business_count'}) \n",
    "print(grouped_df6.head())"
   ]
  },
  {
   "cell_type": "code",
   "execution_count": 18,
   "metadata": {
    "execution": {
     "iopub.execute_input": "2023-11-03T21:32:51.602707Z",
     "iopub.status.busy": "2023-11-03T21:32:51.602315Z",
     "iopub.status.idle": "2023-11-03T21:32:57.800471Z",
     "shell.execute_reply": "2023-11-03T21:32:57.799367Z",
     "shell.execute_reply.started": "2023-11-03T21:32:51.602676Z"
    }
   },
   "outputs": [
    {
     "name": "stdout",
     "output_type": "stream",
     "text": [
      "          city  highest_rating  lowest_rating\n",
      "0     Abington             5.0            1.0\n",
      "1       Affton             5.0            1.0\n",
      "2        Aldan             5.0            1.0\n",
      "3      Algiers             5.0            1.0\n",
      "4  Aliso Viejo             5.0            5.0\n"
     ]
    }
   ],
   "source": [
    "# 9. Highest and lowest rating of each city:\n",
    "business_categories_reviews_group_df = business_categories_reviews.groupby('city').agg(\n",
    "    highest_rating=('stars_y', 'max'),\n",
    "    lowest_rating=('stars_y', 'min')\n",
    ").reset_index()\n",
    "print(business_categories_reviews_group_df.head())\n",
    "\n"
   ]
  },
  {
   "cell_type": "code",
   "execution_count": 20,
   "metadata": {
    "execution": {
     "iopub.execute_input": "2023-11-03T21:33:26.876248Z",
     "iopub.status.busy": "2023-11-03T21:33:26.875855Z",
     "iopub.status.idle": "2023-11-03T21:33:31.556321Z",
     "shell.execute_reply": "2023-11-03T21:33:31.555152Z",
     "shell.execute_reply.started": "2023-11-03T21:33:26.876217Z"
    }
   },
   "outputs": [
    {
     "name": "stdout",
     "output_type": "stream",
     "text": [
      "                           avg_rating  business_count\n",
      "category                                             \n",
      "Coffee Roasteries            4.666667               1\n",
      "Food Stands                  4.283237               3\n",
      "Bakeries                     4.055002              24\n",
      "Coffee & Tea                 4.025189              38\n",
      "Food                         4.024329             147\n",
      "Desserts                     4.002878              13\n",
      "Restaurants                  3.956791             294\n",
      "Ice Cream & Frozen Yogurt    3.889503              13\n",
      "Bars                         3.876243              75\n",
      "Food Trucks                  3.845752              12\n",
      "Empanadas                    3.769231               1\n",
      "Indian                       2.617021               3\n",
      "Kebab                        1.428571               1\n"
     ]
    }
   ],
   "source": [
    "# 10. Exploring the average yelp ratings given to different categories\n",
    "santabarbara_categories_reviews_df = pd.merge(santabarbara_categories_df,dfreview, on='business_id')\n",
    "santabarbara_categories_reviews_grouped_df = santabarbara_categories_reviews_df.groupby('category').agg(\n",
    "avg_rating = ('stars_y', 'mean'),\n",
    "business_count = ('business_id', 'nunique')).sort_values(by=['avg_rating', 'business_count'], ascending=[False, False])\n",
    "print(santabarbara_categories_reviews_grouped_df)\n"
   ]
  }
 ],
 "metadata": {
  "kernelspec": {
   "display_name": "Python 3 (ipykernel)",
   "language": "python",
   "name": "python3"
  },
  "language_info": {
   "codemirror_mode": {
    "name": "ipython",
    "version": 3
   },
   "file_extension": ".py",
   "mimetype": "text/x-python",
   "name": "python",
   "nbconvert_exporter": "python",
   "pygments_lexer": "ipython3",
   "version": "3.11.4"
  }
 },
 "nbformat": 4,
 "nbformat_minor": 4
}
