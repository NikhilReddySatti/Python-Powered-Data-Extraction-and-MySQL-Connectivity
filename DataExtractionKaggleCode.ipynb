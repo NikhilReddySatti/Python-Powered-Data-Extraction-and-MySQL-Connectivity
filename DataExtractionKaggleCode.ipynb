{
 "cells": [
  {
   "cell_type": "code",
   "execution_count": 1,
   "metadata": {
    "_cell_guid": "b1076dfc-b9ad-4769-8c92-a6c4dae69d19",
    "_uuid": "8f2839f25d086af736a60e9eeb907d3b93b6e0e5",
    "execution": {
     "iopub.execute_input": "2023-10-31T00:42:42.464927Z",
     "iopub.status.busy": "2023-10-31T00:42:42.464628Z",
     "iopub.status.idle": "2023-10-31T00:42:42.779712Z",
     "shell.execute_reply": "2023-10-31T00:42:42.778711Z",
     "shell.execute_reply.started": "2023-10-31T00:42:42.464905Z"
    }
   },
   "outputs": [
    {
     "name": "stdout",
     "output_type": "stream",
     "text": [
      "/kaggle/input/yelp-dataset/Dataset_User_Agreement.pdf\n",
      "/kaggle/input/yelp-dataset/yelp_academic_dataset_review.json\n",
      "/kaggle/input/yelp-dataset/yelp_academic_dataset_checkin.json\n",
      "/kaggle/input/yelp-dataset/yelp_academic_dataset_business.json\n",
      "/kaggle/input/yelp-dataset/yelp_academic_dataset_tip.json\n",
      "/kaggle/input/yelp-dataset/yelp_academic_dataset_user.json\n"
     ]
    }
   ],
   "source": [
    "# This Python 3 environment comes with many helpful analytics libraries installed\n",
    "# It is defined by the kaggle/python Docker image: https://github.com/kaggle/docker-python\n",
    "# For example, here's several helpful packages to load\n",
    "\n",
    "import numpy as np # linear algebra\n",
    "import pandas as pd # data processing, CSV file I/O (e.g. pd.read_csv)\n",
    "\n",
    "# Input data files are available in the read-only \"../input/\" directory\n",
    "# For example, running this (by clicking run or pressing Shift+Enter) will list all files under the input directory\n",
    "\n",
    "import os\n",
    "for dirname, _, filenames in os.walk('/kaggle/input'):\n",
    "    for filename in filenames:\n",
    "        print(os.path.join(dirname, filename))\n",
    "\n",
    "# You can write up to 20GB to the current directory (/kaggle/working/) that gets preserved as output when you create a version using \"Save & Run All\" \n",
    "# You can also write temporary files to /kaggle/temp/, but they won't be saved outside of the current session"
   ]
  },
  {
   "cell_type": "code",
   "execution_count": 2,
   "metadata": {
    "execution": {
     "iopub.execute_input": "2023-10-31T00:43:09.362922Z",
     "iopub.status.busy": "2023-10-31T00:43:09.362478Z",
     "iopub.status.idle": "2023-10-31T00:43:20.963144Z",
     "shell.execute_reply": "2023-10-31T00:43:20.961742Z",
     "shell.execute_reply.started": "2023-10-31T00:43:09.362893Z"
    }
   },
   "outputs": [
    {
     "name": "stdout",
     "output_type": "stream",
     "text": [
      "Collecting PyMySql\n",
      "  Downloading PyMySQL-1.1.0-py3-none-any.whl (44 kB)\n",
      "\u001b[2K     \u001b[90m━━━━━━━━━━━━━━━━━━━━━━━━━━━━━━━━━━━━━━━━\u001b[0m \u001b[32m44.8/44.8 kB\u001b[0m \u001b[31m2.6 MB/s\u001b[0m eta \u001b[36m0:00:00\u001b[0m\n",
      "\u001b[?25hInstalling collected packages: PyMySql\n",
      "Successfully installed PyMySql-1.1.0\n"
     ]
    }
   ],
   "source": [
    "from sqlalchemy import create_engine\n",
    "!pip install PyMySql\n",
    "import pymysql\n",
    "import sqlalchemy\n",
    "import json"
   ]
  },
  {
   "cell_type": "code",
   "execution_count": 4,
   "metadata": {
    "execution": {
     "iopub.execute_input": "2023-10-31T00:43:25.535245Z",
     "iopub.status.busy": "2023-10-31T00:43:25.534873Z",
     "iopub.status.idle": "2023-10-31T00:43:25.543183Z",
     "shell.execute_reply": "2023-10-31T00:43:25.542039Z",
     "shell.execute_reply.started": "2023-10-31T00:43:25.535217Z"
    }
   },
   "outputs": [],
   "source": [
    "username = 'A04' # Your team name\n",
    "password = 'A04password'\n",
    "host = 'testproject.mysql.database.azure.com'\n",
    "database = 'A04'  # Your team name\n",
    "\n",
    "connection_string = f\"mysql+pymysql://{username}:{password}@{host}/{database}\"\n",
    "\n",
    "ssl_args = {\n",
    "    'ssl_ca': 'path_to/ca-cert.pem',\n",
    "    'ssl_cert': 'path_to/client-cert.pem',\n",
    "    'ssl_key': 'path_to/client-key.pem'\n",
    "}\n",
    "\n",
    "engine = create_engine(\n",
    "    connection_string,\n",
    "    connect_args={'ssl': ssl_args}\n",
    ")"
   ]
  },
  {
   "cell_type": "code",
   "execution_count": null,
   "metadata": {},
   "outputs": [],
   "source": [
    "tip = []\n",
    "with open('/kaggle/input/yelp-dataset/yelp_academic_dataset_tip.json') as fl:\n",
    "    for i, line in enumerate(fl):\n",
    "        tip.append(json.loads(line))\n",
    "dftip = pd.DataFrame(tip)\n",
    "dftip.head()\n",
    "\n",
    "dftip.to_sql(name = \"tips\", con = engine, if_exists='replace', index=True, chunksize=50000)"
   ]
  },
  {
   "cell_type": "code",
   "execution_count": null,
   "metadata": {},
   "outputs": [],
   "source": [
    "user = []\n",
    "with open('/kaggle/input/yelp-dataset/yelp_academic_dataset_user.json') as fl:\n",
    "    for i, line in enumerate(fl):\n",
    "        user.append(json.loads(line))\n",
    "dfuser = pd.DataFrame(user)\n",
    "dfuser.head()\n",
    "\n",
    "dfuser.to_sql(name = \"users\", con = engine, if_exists='replace', index=True, dtype={'friends': sqlalchemy.types.JSON}, chunksize=50000)"
   ]
  },
  {
   "cell_type": "code",
   "execution_count": null,
   "metadata": {},
   "outputs": [],
   "source": [
    "business = []\n",
    "with open('/kaggle/input/yelp-dataset/yelp_academic_dataset_business.json') as fl:\n",
    "    for i, line in enumerate(fl):\n",
    "        business.append(json.loads(line))\n",
    "dfbusiness = pd.DataFrame(business)\n",
    "dfbusiness.head()\n",
    "\n",
    "dfbusiness.to_sql(name = \"business\", con = engine, if_exists='replace', index=True, dtype={'attributes': sqlalchemy.types.JSON, 'hours': sqlalchemy.types.JSON}, chunksize=50000)"
   ]
  },
  {
   "cell_type": "code",
   "execution_count": null,
   "metadata": {},
   "outputs": [],
   "source": [
    "checkin = []\n",
    "with open('/kaggle/input/yelp-dataset/yelp_academic_dataset_checkin.json') as fl:\n",
    "    for i, line in enumerate(fl):\n",
    "        checkin.append(json.loads(line))\n",
    "dfcheckin = pd.DataFrame(checkin)\n",
    "dfcheckin.head()\n",
    "\n",
    "dfcheckin.to_sql(name = \"checkin\", con = engine, if_exists='replace', index=True, dtype={'date': sqlalchemy.types.JSON}, chunksize=50000)"
   ]
  },
  {
   "cell_type": "code",
   "execution_count": null,
   "metadata": {},
   "outputs": [],
   "source": [
    "review = []\n",
    "with open('/kaggle/input/yelp-dataset/yelp_academic_dataset_review.json') as fl:\n",
    "    for i, line in enumerate(fl):\n",
    "        review.append(json.loads(line))\n",
    "dfreview = pd.DataFrame(review)\n",
    "dfreview.head()\n",
    "\n",
    "dfreview.to_sql(name = \"review\", con = engine, if_exists='replace', index=True, chunksize=50000)"
   ]
  },
  {
   "cell_type": "code",
   "execution_count": null,
   "metadata": {
    "execution": {
     "iopub.execute_input": "2023-10-28T15:51:58.149565Z",
     "iopub.status.busy": "2023-10-28T15:51:58.149178Z",
     "iopub.status.idle": "2023-10-28T15:52:09.462610Z",
     "shell.execute_reply": "2023-10-28T15:52:09.461230Z",
     "shell.execute_reply.started": "2023-10-28T15:51:58.149531Z"
    }
   },
   "outputs": [],
   "source": [
    "def expand_multivalue_column(df, col_name):\n",
    "    # Convert string representation of dictionaries into actual dictionaries (if needed)\n",
    "    expanded_df = df[col_name].apply(pd.Series)\n",
    "    \n",
    "    # For columns within the expanded dataframe that are still string representations of dictionaries\n",
    "    for sub_col in expanded_df.columns:\n",
    "        if isinstance(expanded_df[sub_col].iloc[0], str) and expanded_df[sub_col].iloc[0].startswith(\"{\"):\n",
    "            sub_df = expanded_df[sub_col].map(eval).apply(pd.Series)\n",
    "            sub_df = sub_df.add_prefix(f'{sub_col}_')\n",
    "            expanded_df = pd.concat([expanded_df.drop([sub_col], axis=1), sub_df], axis=1)\n",
    "    \n",
    "    # Add the business_id column for the foreign key reference\n",
    "    expanded_df['business_id'] = df['business_id']\n",
    "    \n",
    "    return expanded_df\n",
    "\n",
    "# Expand the attributes and hours columns into separate tables\n",
    "attributes_table = expand_multivalue_column(business_df, 'attributes')\n",
    "hours_table = expand_multivalue_column(business_df, 'hours')\n",
    "\n",
    "# Drop the 'attributes' and 'hours' columns from the original business_df\n",
    "business_df = business_df.drop(columns=['attributes', 'hours'])\n",
    "\n",
    "print(\"Original Business Table:\")\n",
    "print(business_df)\n",
    "print(\"\\nAttributes Table:\")\n",
    "print(attributes_table)\n",
    "print(\"\\nHours Table:\")\n",
    "print(hours_table)"
   ]
  },
  {
   "cell_type": "code",
   "execution_count": null,
   "metadata": {
    "execution": {
     "iopub.execute_input": "2023-10-28T15:52:26.859514Z",
     "iopub.status.busy": "2023-10-28T15:52:26.858324Z",
     "iopub.status.idle": "2023-10-28T15:52:28.000758Z",
     "shell.execute_reply": "2023-10-28T15:52:27.998984Z",
     "shell.execute_reply.started": "2023-10-28T15:52:26.859471Z"
    }
   },
   "outputs": [],
   "source": [
    "# Split the 'categories' column by commas and transform to long format\n",
    "categories_table = business_df['categories'].str.split(', ', expand=True).stack().reset_index()\n",
    "categories_table.columns = ['business_id', 'category_number', 'category']\n",
    "categories_table = categories_table[['business_id', 'category']]  # Drop the category_number column\n",
    "\n",
    "# Drop the 'categories' column from the original business_df\n",
    "business_df = business_df.drop(columns=['categories'])\n",
    "\n",
    "print(\"Original Business Table:\")\n",
    "print(business_df)\n",
    "print(\"\\nCategories Table:\")\n",
    "print(categories_table)"
   ]
  },
  {
   "cell_type": "code",
   "execution_count": null,
   "metadata": {},
   "outputs": [],
   "source": [
    "business_df.to_sql(name = \"business\", con = engine, if_exists='replace', index=True, chunksize=50000)"
   ]
  },
  {
   "cell_type": "code",
   "execution_count": null,
   "metadata": {},
   "outputs": [],
   "source": [
    "attributes_table.to_sql(name = \"attributes\", con = engine, if_exists='replace', index=True, chunksize=50000)"
   ]
  },
  {
   "cell_type": "code",
   "execution_count": null,
   "metadata": {},
   "outputs": [],
   "source": [
    "hours_table.to_sql(name = \"hours\", con = engine, if_exists='replace', index=True, chunksize=50000)"
   ]
  },
  {
   "cell_type": "code",
   "execution_count": null,
   "metadata": {
    "execution": {
     "iopub.execute_input": "2023-10-28T22:04:21.928842Z",
     "iopub.status.busy": "2023-10-28T22:04:21.928454Z",
     "iopub.status.idle": "2023-10-28T22:04:43.602321Z",
     "shell.execute_reply": "2023-10-28T22:04:43.601009Z",
     "shell.execute_reply.started": "2023-10-28T22:04:21.928811Z"
    }
   },
   "outputs": [],
   "source": [
    "categories_table.to_sql(name = \"categories\", con = engine, if_exists='replace', index=True, chunksize=50000)"
   ]
  },
  {
   "cell_type": "code",
   "execution_count": 6,
   "metadata": {
    "execution": {
     "iopub.execute_input": "2023-10-31T00:44:29.769655Z",
     "iopub.status.busy": "2023-10-31T00:44:29.769231Z",
     "iopub.status.idle": "2023-10-31T00:44:32.926065Z",
     "shell.execute_reply": "2023-10-31T00:44:32.924865Z",
     "shell.execute_reply.started": "2023-10-31T00:44:29.769622Z"
    }
   },
   "outputs": [],
   "source": [
    "business = []\n",
    "with open('/kaggle/input/yelp-dataset/yelp_academic_dataset_business.json') as fl:\n",
    "    for i, line in enumerate(fl):\n",
    "        business.append(json.loads(line))\n",
    "dfbusiness = pd.DataFrame(business)\n",
    "        "
   ]
  },
  {
   "cell_type": "code",
   "execution_count": 7,
   "metadata": {
    "execution": {
     "iopub.execute_input": "2023-10-31T00:45:19.141241Z",
     "iopub.status.busy": "2023-10-31T00:45:19.140823Z",
     "iopub.status.idle": "2023-10-31T00:45:19.158343Z",
     "shell.execute_reply": "2023-10-31T00:45:19.157638Z",
     "shell.execute_reply.started": "2023-10-31T00:45:19.141212Z"
    }
   },
   "outputs": [
    {
     "name": "stdout",
     "output_type": "stream",
     "text": [
      "              business_id                      name  \\\n",
      "0  Pns2l4eNsfO8kk83dixA6A  Abby Rappoport, LAC, CMQ   \n",
      "1  mpf3x-BjTdTEA3yCZrAYPw             The UPS Store   \n",
      "2  tUFrWirKiKi_TAnsVWINQQ                    Target   \n",
      "3  MTSW4McQd7CbVtyjqoe9mw        St Honore Pastries   \n",
      "4  mWMc6_wTdE0EUBKIGXDVfA  Perkiomen Valley Brewery   \n",
      "\n",
      "                           address           city state postal_code  \\\n",
      "0           1616 Chapala St, Ste 2  Santa Barbara    CA       93101   \n",
      "1  87 Grasso Plaza Shopping Center         Affton    MO       63123   \n",
      "2             5255 E Broadway Blvd         Tucson    AZ       85711   \n",
      "3                      935 Race St   Philadelphia    PA       19107   \n",
      "4                    101 Walnut St     Green Lane    PA       18054   \n",
      "\n",
      "    latitude   longitude  stars  review_count  is_open  \\\n",
      "0  34.426679 -119.711197    5.0             7        0   \n",
      "1  38.551126  -90.335695    3.0            15        1   \n",
      "2  32.223236 -110.880452    3.5            22        0   \n",
      "3  39.955505  -75.155564    4.0            80        1   \n",
      "4  40.338183  -75.471659    4.5            13        1   \n",
      "\n",
      "                                          attributes  \\\n",
      "0                      {'ByAppointmentOnly': 'True'}   \n",
      "1             {'BusinessAcceptsCreditCards': 'True'}   \n",
      "2  {'BikeParking': 'True', 'BusinessAcceptsCredit...   \n",
      "3  {'RestaurantsDelivery': 'False', 'OutdoorSeati...   \n",
      "4  {'BusinessAcceptsCreditCards': 'True', 'Wheelc...   \n",
      "\n",
      "                                          categories  \\\n",
      "0  Doctors, Traditional Chinese Medicine, Naturop...   \n",
      "1  Shipping Centers, Local Services, Notaries, Ma...   \n",
      "2  Department Stores, Shopping, Fashion, Home & G...   \n",
      "3  Restaurants, Food, Bubble Tea, Coffee & Tea, B...   \n",
      "4                          Brewpubs, Breweries, Food   \n",
      "\n",
      "                                               hours  \n",
      "0                                               None  \n",
      "1  {'Monday': '0:0-0:0', 'Tuesday': '8:0-18:30', ...  \n",
      "2  {'Monday': '8:0-22:0', 'Tuesday': '8:0-22:0', ...  \n",
      "3  {'Monday': '7:0-20:0', 'Tuesday': '7:0-20:0', ...  \n",
      "4  {'Wednesday': '14:0-22:0', 'Thursday': '16:0-2...  \n"
     ]
    }
   ],
   "source": [
    "print(dfbusiness.head())"
   ]
  },
  {
   "cell_type": "code",
   "execution_count": 9,
   "metadata": {
    "execution": {
     "iopub.execute_input": "2023-10-31T00:46:44.272764Z",
     "iopub.status.busy": "2023-10-31T00:46:44.271838Z",
     "iopub.status.idle": "2023-10-31T00:47:42.282056Z",
     "shell.execute_reply": "2023-10-31T00:47:42.280477Z",
     "shell.execute_reply.started": "2023-10-31T00:46:44.272730Z"
    }
   },
   "outputs": [
    {
     "name": "stdout",
     "output_type": "stream",
     "text": [
      "Original Business Table:\n",
      "                   business_id                      name  \\\n",
      "0       Pns2l4eNsfO8kk83dixA6A  Abby Rappoport, LAC, CMQ   \n",
      "1       mpf3x-BjTdTEA3yCZrAYPw             The UPS Store   \n",
      "2       tUFrWirKiKi_TAnsVWINQQ                    Target   \n",
      "3       MTSW4McQd7CbVtyjqoe9mw        St Honore Pastries   \n",
      "4       mWMc6_wTdE0EUBKIGXDVfA  Perkiomen Valley Brewery   \n",
      "...                        ...                       ...   \n",
      "150341  IUQopTMmYQG-qRtBk-8QnA              Binh's Nails   \n",
      "150342  c8GjPIOTGVmIemT7j5_SyQ      Wild Birds Unlimited   \n",
      "150343  _QAMST-NrQobXduilWEqSw         Claire's Boutique   \n",
      "150344  mtGm22y5c2UHNXDFAjaPNw  Cyclery & Fitness Center   \n",
      "150345  jV_XOycEzSlTx-65W906pg                   Sic Ink   \n",
      "\n",
      "                                address           city state postal_code  \\\n",
      "0                1616 Chapala St, Ste 2  Santa Barbara    CA       93101   \n",
      "1       87 Grasso Plaza Shopping Center         Affton    MO       63123   \n",
      "2                  5255 E Broadway Blvd         Tucson    AZ       85711   \n",
      "3                           935 Race St   Philadelphia    PA       19107   \n",
      "4                         101 Walnut St     Green Lane    PA       18054   \n",
      "...                                 ...            ...   ...         ...   \n",
      "150341                3388 Gateway Blvd       Edmonton    AB     T6J 5H2   \n",
      "150342               2813 Bransford Ave      Nashville    TN       37204   \n",
      "150343           6020 E 82nd St, Ste 46   Indianapolis    IN       46250   \n",
      "150344                     2472 Troy Rd   Edwardsville    IL       62025   \n",
      "150345            238 Apollo Beach Blvd   Apollo beach    FL       33572   \n",
      "\n",
      "         latitude   longitude  stars  review_count  is_open  \\\n",
      "0       34.426679 -119.711197    5.0             7        0   \n",
      "1       38.551126  -90.335695    3.0            15        1   \n",
      "2       32.223236 -110.880452    3.5            22        0   \n",
      "3       39.955505  -75.155564    4.0            80        1   \n",
      "4       40.338183  -75.471659    4.5            13        1   \n",
      "...           ...         ...    ...           ...      ...   \n",
      "150341  53.468419 -113.492054    3.0            13        1   \n",
      "150342  36.115118  -86.766925    4.0             5        1   \n",
      "150343  39.908707  -86.065088    3.5             8        1   \n",
      "150344  38.782351  -89.950558    4.0            24        1   \n",
      "150345  27.771002  -82.394910    4.5             9        1   \n",
      "\n",
      "                                               categories  \n",
      "0       Doctors, Traditional Chinese Medicine, Naturop...  \n",
      "1       Shipping Centers, Local Services, Notaries, Ma...  \n",
      "2       Department Stores, Shopping, Fashion, Home & G...  \n",
      "3       Restaurants, Food, Bubble Tea, Coffee & Tea, B...  \n",
      "4                               Brewpubs, Breweries, Food  \n",
      "...                                                   ...  \n",
      "150341                         Nail Salons, Beauty & Spas  \n",
      "150342  Pets, Nurseries & Gardening, Pet Stores, Hobby...  \n",
      "150343  Shopping, Jewelry, Piercing, Toy Stores, Beaut...  \n",
      "150344  Fitness/Exercise Equipment, Eyewear & Optician...  \n",
      "150345  Beauty & Spas, Permanent Makeup, Piercing, Tattoo  \n",
      "\n",
      "[150346 rows x 12 columns]\n",
      "\n",
      "Attributes Table:\n",
      "       ByAppointmentOnly BusinessAcceptsCreditCards BikeParking  \\\n",
      "0                   True                        NaN         NaN   \n",
      "1                    NaN                       True         NaN   \n",
      "2                  False                       True        True   \n",
      "3                  False                      False        True   \n",
      "4                    NaN                       True        True   \n",
      "...                  ...                        ...         ...   \n",
      "150341             False                        NaN         NaN   \n",
      "150342               NaN                       True        True   \n",
      "150343               NaN                       True         NaN   \n",
      "150344               NaN                       True        True   \n",
      "150345             False                       True       False   \n",
      "\n",
      "       RestaurantsPriceRange2 CoatCheck RestaurantsTakeOut  \\\n",
      "0                         NaN       NaN                NaN   \n",
      "1                         NaN       NaN                NaN   \n",
      "2                           2     False              False   \n",
      "3                           1       NaN               True   \n",
      "4                         NaN       NaN               True   \n",
      "...                       ...       ...                ...   \n",
      "150341                      3       NaN                NaN   \n",
      "150342                      2       NaN                NaN   \n",
      "150343                      1       NaN                NaN   \n",
      "150344                      4       NaN               None   \n",
      "150345                      1       NaN                NaN   \n",
      "\n",
      "       RestaurantsDelivery Caters     WiFi  \\\n",
      "0                      NaN    NaN      NaN   \n",
      "1                      NaN    NaN      NaN   \n",
      "2                    False  False    u'no'   \n",
      "3                    False   True  u'free'   \n",
      "4                      NaN  False      NaN   \n",
      "...                    ...    ...      ...   \n",
      "150341                 NaN    NaN      NaN   \n",
      "150342                 NaN    NaN    u'no'   \n",
      "150343                 NaN    NaN      NaN   \n",
      "150344                None    NaN      NaN   \n",
      "150345                 NaN    NaN  u'free'   \n",
      "\n",
      "                                          BusinessParking  ... BestNights  \\\n",
      "0                                                     NaN  ...        NaN   \n",
      "1                                                     NaN  ...        NaN   \n",
      "2       {'garage': False, 'street': False, 'validated'...  ...        NaN   \n",
      "3       {'garage': False, 'street': True, 'validated':...  ...        NaN   \n",
      "4       {'garage': None, 'street': None, 'validated': ...  ...        NaN   \n",
      "...                                                   ...  ...        ...   \n",
      "150341                                                NaN  ...        NaN   \n",
      "150342  {'garage': False, 'street': False, 'validated'...  ...        NaN   \n",
      "150343                                                NaN  ...        NaN   \n",
      "150344  {'garage': False, 'street': False, 'validated'...  ...        NaN   \n",
      "150345  {'garage': False, 'street': False, 'validated'...  ...        NaN   \n",
      "\n",
      "       BYOB Corkage BYOBCorkage HairSpecializesIn Open24Hours  \\\n",
      "0       NaN     NaN         NaN               NaN         NaN   \n",
      "1       NaN     NaN         NaN               NaN         NaN   \n",
      "2       NaN     NaN         NaN               NaN         NaN   \n",
      "3       NaN     NaN         NaN               NaN         NaN   \n",
      "4       NaN     NaN         NaN               NaN         NaN   \n",
      "...     ...     ...         ...               ...         ...   \n",
      "150341  NaN     NaN         NaN               NaN         NaN   \n",
      "150342  NaN     NaN         NaN               NaN         NaN   \n",
      "150343  NaN     NaN         NaN               NaN         NaN   \n",
      "150344  NaN     NaN         NaN               NaN         NaN   \n",
      "150345  NaN     NaN         NaN               NaN         NaN   \n",
      "\n",
      "       RestaurantsCounterService AgesAllowed DietaryRestrictions  \\\n",
      "0                            NaN         NaN                 NaN   \n",
      "1                            NaN         NaN                 NaN   \n",
      "2                            NaN         NaN                 NaN   \n",
      "3                            NaN         NaN                 NaN   \n",
      "4                            NaN         NaN                 NaN   \n",
      "...                          ...         ...                 ...   \n",
      "150341                       NaN         NaN                 NaN   \n",
      "150342                       NaN         NaN                 NaN   \n",
      "150343                       NaN         NaN                 NaN   \n",
      "150344                       NaN         NaN                 NaN   \n",
      "150345                       NaN         NaN                 NaN   \n",
      "\n",
      "                   business_id  \n",
      "0       Pns2l4eNsfO8kk83dixA6A  \n",
      "1       mpf3x-BjTdTEA3yCZrAYPw  \n",
      "2       tUFrWirKiKi_TAnsVWINQQ  \n",
      "3       MTSW4McQd7CbVtyjqoe9mw  \n",
      "4       mWMc6_wTdE0EUBKIGXDVfA  \n",
      "...                        ...  \n",
      "150341  IUQopTMmYQG-qRtBk-8QnA  \n",
      "150342  c8GjPIOTGVmIemT7j5_SyQ  \n",
      "150343  _QAMST-NrQobXduilWEqSw  \n",
      "150344  mtGm22y5c2UHNXDFAjaPNw  \n",
      "150345  jV_XOycEzSlTx-65W906pg  \n",
      "\n",
      "[150346 rows x 40 columns]\n"
     ]
    }
   ],
   "source": [
    "def new_exp_column(df, col_name):\n",
    "    expand_df = df[col_name].apply(pd.Series)\n",
    "    for i in expand_df.columns:\n",
    "        if isinstance(expand_df[i].iloc[0], str) and expand_df[i].iloc[0].startswith(\"{\"):\n",
    "            new_df = expand_df[i].map(eval).apply(pd.Series)\n",
    "            new_df = new_df.add_prefix(f'{i}_')  # Corrected this line\n",
    "            expand_df = pd.concat([expand_df.drop([i], axis=1), new_df], axis=1)\n",
    "    expand_df['business_id'] = df['business_id']  # Corrected column name here\n",
    " \n",
    "    return expand_df\n",
    " \n",
    "# Assuming 'business_df' is your original DataFrame\n",
    "# Expand the attributes and hours columns into separate tables\n",
    "attributes_df = new_exp_column(dfbusiness, 'attributes')\n",
    " \n",
    "# Drop the 'attributes' and 'hours' columns from the original business_df\n",
    "dfbusiness = dfbusiness.drop(columns=['attributes', 'hours'])\n",
    " \n",
    "print(\"Original Business Table:\")\n",
    "print(dfbusiness)\n",
    "print(\"\\nAttributes Table:\")\n",
    "print(attributes_df)"
   ]
  },
  {
   "cell_type": "code",
   "execution_count": 11,
   "metadata": {
    "execution": {
     "iopub.execute_input": "2023-10-31T00:51:26.936782Z",
     "iopub.status.busy": "2023-10-31T00:51:26.935583Z",
     "iopub.status.idle": "2023-10-31T00:52:19.955873Z",
     "shell.execute_reply": "2023-10-31T00:52:19.954062Z",
     "shell.execute_reply.started": "2023-10-31T00:51:26.936748Z"
    }
   },
   "outputs": [
    {
     "name": "stdout",
     "output_type": "stream",
     "text": [
      "       garage street validated    lot  valet             business_id\n",
      "0         NaN    NaN       NaN    NaN    NaN  Pns2l4eNsfO8kk83dixA6A\n",
      "1         NaN    NaN       NaN    NaN    NaN  mpf3x-BjTdTEA3yCZrAYPw\n",
      "2       False  False     False   True  False  tUFrWirKiKi_TAnsVWINQQ\n",
      "3       False   True     False  False  False  MTSW4McQd7CbVtyjqoe9mw\n",
      "4        None   None      None   True  False  mWMc6_wTdE0EUBKIGXDVfA\n",
      "...       ...    ...       ...    ...    ...                     ...\n",
      "150341    NaN    NaN       NaN    NaN    NaN  IUQopTMmYQG-qRtBk-8QnA\n",
      "150342  False  False     False   True  False  c8GjPIOTGVmIemT7j5_SyQ\n",
      "150343    NaN    NaN       NaN    NaN    NaN  _QAMST-NrQobXduilWEqSw\n",
      "150344  False  False     False   True  False  mtGm22y5c2UHNXDFAjaPNw\n",
      "150345  False  False     False   True  False  jV_XOycEzSlTx-65W906pg\n",
      "\n",
      "[150346 rows x 6 columns]\n"
     ]
    }
   ],
   "source": [
    "import ast\n",
    "Parking_df = pd.DataFrame(attributes_df['BusinessParking'])\n",
    "def safe_eval(text):\n",
    "    try:\n",
    "        return ast.literal_eval(text)\n",
    "    except (SyntaxError, ValueError):\n",
    "        return None\n",
    " \n",
    "# Apply the custom function to handle the text data\n",
    "Parking_df['BusinessParking'] = Parking_df['BusinessParking'].apply(safe_eval)\n",
    "Parking_df = pd.concat([Parking_df, Parking_df['BusinessParking'].apply(pd.Series)], axis=1)\n",
    "Parking_df = Parking_df.drop(columns='BusinessParking')\n",
    "Parking_df['business_id'] = attributes_df['business_id']\n",
    "print(Parking_df)"
   ]
  },
  {
   "cell_type": "code",
   "execution_count": 12,
   "metadata": {
    "execution": {
     "iopub.execute_input": "2023-10-31T01:02:42.949005Z",
     "iopub.status.busy": "2023-10-31T01:02:42.948644Z",
     "iopub.status.idle": "2023-10-31T01:03:41.282915Z",
     "shell.execute_reply": "2023-10-31T01:03:41.281837Z",
     "shell.execute_reply.started": "2023-10-31T01:02:42.948954Z"
    }
   },
   "outputs": [
    {
     "name": "stdout",
     "output_type": "stream",
     "text": [
      "       romantic intimate touristy hipster divey classy trendy upscale casual  \\\n",
      "0           NaN      NaN      NaN     NaN   NaN    NaN    NaN     NaN    NaN   \n",
      "1           NaN      NaN      NaN     NaN   NaN    NaN    NaN     NaN    NaN   \n",
      "2           NaN      NaN      NaN     NaN   NaN    NaN    NaN     NaN    NaN   \n",
      "3           NaN      NaN      NaN     NaN   NaN    NaN    NaN     NaN    NaN   \n",
      "4           NaN      NaN      NaN     NaN   NaN    NaN    NaN     NaN    NaN   \n",
      "...         ...      ...      ...     ...   ...    ...    ...     ...    ...   \n",
      "150341      NaN      NaN      NaN     NaN   NaN    NaN    NaN     NaN    NaN   \n",
      "150342      NaN      NaN      NaN     NaN   NaN    NaN    NaN     NaN    NaN   \n",
      "150343      NaN      NaN      NaN     NaN   NaN    NaN    NaN     NaN    NaN   \n",
      "150344      NaN      NaN      NaN     NaN   NaN    NaN    NaN     NaN    NaN   \n",
      "150345      NaN      NaN      NaN     NaN   NaN    NaN    NaN     NaN    NaN   \n",
      "\n",
      "                   business_id  \n",
      "0       Pns2l4eNsfO8kk83dixA6A  \n",
      "1       mpf3x-BjTdTEA3yCZrAYPw  \n",
      "2       tUFrWirKiKi_TAnsVWINQQ  \n",
      "3       MTSW4McQd7CbVtyjqoe9mw  \n",
      "4       mWMc6_wTdE0EUBKIGXDVfA  \n",
      "...                        ...  \n",
      "150341  IUQopTMmYQG-qRtBk-8QnA  \n",
      "150342  c8GjPIOTGVmIemT7j5_SyQ  \n",
      "150343  _QAMST-NrQobXduilWEqSw  \n",
      "150344  mtGm22y5c2UHNXDFAjaPNw  \n",
      "150345  jV_XOycEzSlTx-65W906pg  \n",
      "\n",
      "[150346 rows x 10 columns]\n"
     ]
    }
   ],
   "source": [
    "Ambience_df = pd.DataFrame(attributes_df['Ambience'])\n",
    " \n",
    "# Apply the custom function to handle the text data\n",
    "Ambience_df['Ambience'] = Ambience_df['Ambience'].apply(safe_eval)\n",
    "Ambience_df = pd.concat([Ambience_df, Ambience_df['Ambience'].apply(pd.Series)], axis=1)\n",
    "Ambience_df = Ambience_df.drop(columns='Ambience')\n",
    "Ambience_df['business_id'] = attributes_df['business_id']\n",
    "print(Ambience_df)"
   ]
  },
  {
   "cell_type": "code",
   "execution_count": 13,
   "metadata": {
    "execution": {
     "iopub.execute_input": "2023-10-31T01:04:24.478715Z",
     "iopub.status.busy": "2023-10-31T01:04:24.478337Z",
     "iopub.status.idle": "2023-10-31T01:05:19.223601Z",
     "shell.execute_reply": "2023-10-31T01:05:19.222025Z",
     "shell.execute_reply.started": "2023-10-31T01:04:24.478684Z"
    }
   },
   "outputs": [
    {
     "name": "stdout",
     "output_type": "stream",
     "text": [
      "       dessert latenight lunch dinner brunch breakfast             business_id\n",
      "0          NaN       NaN   NaN    NaN    NaN       NaN  Pns2l4eNsfO8kk83dixA6A\n",
      "1          NaN       NaN   NaN    NaN    NaN       NaN  mpf3x-BjTdTEA3yCZrAYPw\n",
      "2          NaN       NaN   NaN    NaN    NaN       NaN  tUFrWirKiKi_TAnsVWINQQ\n",
      "3          NaN       NaN   NaN    NaN    NaN       NaN  MTSW4McQd7CbVtyjqoe9mw\n",
      "4          NaN       NaN   NaN    NaN    NaN       NaN  mWMc6_wTdE0EUBKIGXDVfA\n",
      "...        ...       ...   ...    ...    ...       ...                     ...\n",
      "150341     NaN       NaN   NaN    NaN    NaN       NaN  IUQopTMmYQG-qRtBk-8QnA\n",
      "150342     NaN       NaN   NaN    NaN    NaN       NaN  c8GjPIOTGVmIemT7j5_SyQ\n",
      "150343     NaN       NaN   NaN    NaN    NaN       NaN  _QAMST-NrQobXduilWEqSw\n",
      "150344     NaN       NaN   NaN    NaN    NaN       NaN  mtGm22y5c2UHNXDFAjaPNw\n",
      "150345     NaN       NaN   NaN    NaN    NaN       NaN  jV_XOycEzSlTx-65W906pg\n",
      "\n",
      "[150346 rows x 7 columns]\n"
     ]
    }
   ],
   "source": [
    "GoodForMeal_df = pd.DataFrame(attributes_df['GoodForMeal'])\n",
    " \n",
    "# Apply the custom function to handle the text data\n",
    "GoodForMeal_df['GoodForMeal'] = GoodForMeal_df['GoodForMeal'].apply(safe_eval)\n",
    "GoodForMeal_df = pd.concat([GoodForMeal_df, GoodForMeal_df['GoodForMeal'].apply(pd.Series)], axis=1)\n",
    "GoodForMeal_df = GoodForMeal_df.drop(columns='GoodForMeal')\n",
    "GoodForMeal_df['business_id'] = attributes_df['business_id']\n",
    "print(GoodForMeal_df)"
   ]
  },
  {
   "cell_type": "code",
   "execution_count": 14,
   "metadata": {
    "execution": {
     "iopub.execute_input": "2023-10-31T01:06:16.503731Z",
     "iopub.status.busy": "2023-10-31T01:06:16.503376Z",
     "iopub.status.idle": "2023-10-31T01:07:11.436821Z",
     "shell.execute_reply": "2023-10-31T01:07:11.434976Z",
     "shell.execute_reply.started": "2023-10-31T01:06:16.503701Z"
    }
   },
   "outputs": [
    {
     "name": "stdout",
     "output_type": "stream",
     "text": [
      "         dj background_music no_music jukebox live video karaoke  \\\n",
      "0       NaN              NaN      NaN     NaN  NaN   NaN     NaN   \n",
      "1       NaN              NaN      NaN     NaN  NaN   NaN     NaN   \n",
      "2       NaN              NaN      NaN     NaN  NaN   NaN     NaN   \n",
      "3       NaN              NaN      NaN     NaN  NaN   NaN     NaN   \n",
      "4       NaN              NaN      NaN     NaN  NaN   NaN     NaN   \n",
      "...     ...              ...      ...     ...  ...   ...     ...   \n",
      "150341  NaN              NaN      NaN     NaN  NaN   NaN     NaN   \n",
      "150342  NaN              NaN      NaN     NaN  NaN   NaN     NaN   \n",
      "150343  NaN              NaN      NaN     NaN  NaN   NaN     NaN   \n",
      "150344  NaN              NaN      NaN     NaN  NaN   NaN     NaN   \n",
      "150345  NaN              NaN      NaN     NaN  NaN   NaN     NaN   \n",
      "\n",
      "                   business_id  \n",
      "0       Pns2l4eNsfO8kk83dixA6A  \n",
      "1       mpf3x-BjTdTEA3yCZrAYPw  \n",
      "2       tUFrWirKiKi_TAnsVWINQQ  \n",
      "3       MTSW4McQd7CbVtyjqoe9mw  \n",
      "4       mWMc6_wTdE0EUBKIGXDVfA  \n",
      "...                        ...  \n",
      "150341  IUQopTMmYQG-qRtBk-8QnA  \n",
      "150342  c8GjPIOTGVmIemT7j5_SyQ  \n",
      "150343  _QAMST-NrQobXduilWEqSw  \n",
      "150344  mtGm22y5c2UHNXDFAjaPNw  \n",
      "150345  jV_XOycEzSlTx-65W906pg  \n",
      "\n",
      "[150346 rows x 8 columns]\n"
     ]
    }
   ],
   "source": [
    "Music_df = pd.DataFrame(attributes_df['Music'])\n",
    " \n",
    "# Apply the custom function to handle the text data\n",
    "Music_df['Music'] = Music_df['Music'].apply(safe_eval)\n",
    "Music_df = pd.concat([Music_df, Music_df['Music'].apply(pd.Series)], axis=1)\n",
    "Music_df = Music_df.drop(columns='Music')\n",
    "Music_df['business_id'] = attributes_df['business_id']\n",
    "print(Music_df)"
   ]
  },
  {
   "cell_type": "code",
   "execution_count": 15,
   "metadata": {
    "execution": {
     "iopub.execute_input": "2023-10-31T01:07:43.258822Z",
     "iopub.status.busy": "2023-10-31T01:07:43.258441Z",
     "iopub.status.idle": "2023-10-31T01:08:39.883967Z",
     "shell.execute_reply": "2023-10-31T01:08:39.882387Z",
     "shell.execute_reply.started": "2023-10-31T01:07:43.258793Z"
    }
   },
   "outputs": [
    {
     "name": "stdout",
     "output_type": "stream",
     "text": [
      "       monday tuesday friday wednesday thursday sunday saturday  \\\n",
      "0         NaN     NaN    NaN       NaN      NaN    NaN      NaN   \n",
      "1         NaN     NaN    NaN       NaN      NaN    NaN      NaN   \n",
      "2         NaN     NaN    NaN       NaN      NaN    NaN      NaN   \n",
      "3         NaN     NaN    NaN       NaN      NaN    NaN      NaN   \n",
      "4         NaN     NaN    NaN       NaN      NaN    NaN      NaN   \n",
      "...       ...     ...    ...       ...      ...    ...      ...   \n",
      "150341    NaN     NaN    NaN       NaN      NaN    NaN      NaN   \n",
      "150342    NaN     NaN    NaN       NaN      NaN    NaN      NaN   \n",
      "150343    NaN     NaN    NaN       NaN      NaN    NaN      NaN   \n",
      "150344    NaN     NaN    NaN       NaN      NaN    NaN      NaN   \n",
      "150345    NaN     NaN    NaN       NaN      NaN    NaN      NaN   \n",
      "\n",
      "                   business_id  \n",
      "0       Pns2l4eNsfO8kk83dixA6A  \n",
      "1       mpf3x-BjTdTEA3yCZrAYPw  \n",
      "2       tUFrWirKiKi_TAnsVWINQQ  \n",
      "3       MTSW4McQd7CbVtyjqoe9mw  \n",
      "4       mWMc6_wTdE0EUBKIGXDVfA  \n",
      "...                        ...  \n",
      "150341  IUQopTMmYQG-qRtBk-8QnA  \n",
      "150342  c8GjPIOTGVmIemT7j5_SyQ  \n",
      "150343  _QAMST-NrQobXduilWEqSw  \n",
      "150344  mtGm22y5c2UHNXDFAjaPNw  \n",
      "150345  jV_XOycEzSlTx-65W906pg  \n",
      "\n",
      "[150346 rows x 8 columns]\n"
     ]
    }
   ],
   "source": [
    "BestNights_df = pd.DataFrame(attributes_df['BestNights'])\n",
    " \n",
    "# Apply the custom function to handle the text data\n",
    "BestNights_df['BestNights'] = BestNights_df['BestNights'].apply(safe_eval)\n",
    "BestNights_df = pd.concat([BestNights_df, BestNights_df['BestNights'].apply(pd.Series)], axis=1)\n",
    "BestNights_df = BestNights_df.drop(columns='BestNights')\n",
    "BestNights_df['business_id'] = attributes_df['business_id']\n",
    "print(BestNights_df)"
   ]
  },
  {
   "cell_type": "code",
   "execution_count": 16,
   "metadata": {
    "execution": {
     "iopub.execute_input": "2023-10-31T01:08:53.223116Z",
     "iopub.status.busy": "2023-10-31T01:08:53.222731Z",
     "iopub.status.idle": "2023-10-31T01:09:48.203762Z",
     "shell.execute_reply": "2023-10-31T01:09:48.202049Z",
     "shell.execute_reply.started": "2023-10-31T01:08:53.223087Z"
    }
   },
   "outputs": [
    {
     "name": "stdout",
     "output_type": "stream",
     "text": [
      "       straightperms coloring extensions africanamerican curly kids perms  \\\n",
      "0                NaN      NaN        NaN             NaN   NaN  NaN   NaN   \n",
      "1                NaN      NaN        NaN             NaN   NaN  NaN   NaN   \n",
      "2                NaN      NaN        NaN             NaN   NaN  NaN   NaN   \n",
      "3                NaN      NaN        NaN             NaN   NaN  NaN   NaN   \n",
      "4                NaN      NaN        NaN             NaN   NaN  NaN   NaN   \n",
      "...              ...      ...        ...             ...   ...  ...   ...   \n",
      "150341           NaN      NaN        NaN             NaN   NaN  NaN   NaN   \n",
      "150342           NaN      NaN        NaN             NaN   NaN  NaN   NaN   \n",
      "150343           NaN      NaN        NaN             NaN   NaN  NaN   NaN   \n",
      "150344           NaN      NaN        NaN             NaN   NaN  NaN   NaN   \n",
      "150345           NaN      NaN        NaN             NaN   NaN  NaN   NaN   \n",
      "\n",
      "       asian             business_id  \n",
      "0        NaN  Pns2l4eNsfO8kk83dixA6A  \n",
      "1        NaN  mpf3x-BjTdTEA3yCZrAYPw  \n",
      "2        NaN  tUFrWirKiKi_TAnsVWINQQ  \n",
      "3        NaN  MTSW4McQd7CbVtyjqoe9mw  \n",
      "4        NaN  mWMc6_wTdE0EUBKIGXDVfA  \n",
      "...      ...                     ...  \n",
      "150341   NaN  IUQopTMmYQG-qRtBk-8QnA  \n",
      "150342   NaN  c8GjPIOTGVmIemT7j5_SyQ  \n",
      "150343   NaN  _QAMST-NrQobXduilWEqSw  \n",
      "150344   NaN  mtGm22y5c2UHNXDFAjaPNw  \n",
      "150345   NaN  jV_XOycEzSlTx-65W906pg  \n",
      "\n",
      "[150346 rows x 9 columns]\n"
     ]
    }
   ],
   "source": [
    "HairSpecializesIn_df = pd.DataFrame(attributes_df['HairSpecializesIn'])\n",
    " \n",
    "# Apply the custom function to handle the text data\n",
    "HairSpecializesIn_df['HairSpecializesIn'] = HairSpecializesIn_df['HairSpecializesIn'].apply(safe_eval)\n",
    "HairSpecializesIn_df = pd.concat([HairSpecializesIn_df, HairSpecializesIn_df['HairSpecializesIn'].apply(pd.Series)], axis=1)\n",
    "HairSpecializesIn_df = HairSpecializesIn_df.drop(columns='HairSpecializesIn')\n",
    "HairSpecializesIn_df['business_id'] = attributes_df['business_id']\n",
    "print(HairSpecializesIn_df)"
   ]
  },
  {
   "cell_type": "code",
   "execution_count": 17,
   "metadata": {
    "execution": {
     "iopub.execute_input": "2023-10-31T01:10:00.951949Z",
     "iopub.status.busy": "2023-10-31T01:10:00.951375Z",
     "iopub.status.idle": "2023-10-31T01:10:53.457036Z",
     "shell.execute_reply": "2023-10-31T01:10:53.455686Z",
     "shell.execute_reply.started": "2023-10-31T01:10:00.951918Z"
    }
   },
   "outputs": [
    {
     "name": "stdout",
     "output_type": "stream",
     "text": [
      "       dairy-free gluten-free vegan kosher halal soy-free vegetarian  \\\n",
      "0             NaN         NaN   NaN    NaN   NaN      NaN        NaN   \n",
      "1             NaN         NaN   NaN    NaN   NaN      NaN        NaN   \n",
      "2             NaN         NaN   NaN    NaN   NaN      NaN        NaN   \n",
      "3             NaN         NaN   NaN    NaN   NaN      NaN        NaN   \n",
      "4             NaN         NaN   NaN    NaN   NaN      NaN        NaN   \n",
      "...           ...         ...   ...    ...   ...      ...        ...   \n",
      "150341        NaN         NaN   NaN    NaN   NaN      NaN        NaN   \n",
      "150342        NaN         NaN   NaN    NaN   NaN      NaN        NaN   \n",
      "150343        NaN         NaN   NaN    NaN   NaN      NaN        NaN   \n",
      "150344        NaN         NaN   NaN    NaN   NaN      NaN        NaN   \n",
      "150345        NaN         NaN   NaN    NaN   NaN      NaN        NaN   \n",
      "\n",
      "                   business_id  \n",
      "0       Pns2l4eNsfO8kk83dixA6A  \n",
      "1       mpf3x-BjTdTEA3yCZrAYPw  \n",
      "2       tUFrWirKiKi_TAnsVWINQQ  \n",
      "3       MTSW4McQd7CbVtyjqoe9mw  \n",
      "4       mWMc6_wTdE0EUBKIGXDVfA  \n",
      "...                        ...  \n",
      "150341  IUQopTMmYQG-qRtBk-8QnA  \n",
      "150342  c8GjPIOTGVmIemT7j5_SyQ  \n",
      "150343  _QAMST-NrQobXduilWEqSw  \n",
      "150344  mtGm22y5c2UHNXDFAjaPNw  \n",
      "150345  jV_XOycEzSlTx-65W906pg  \n",
      "\n",
      "[150346 rows x 8 columns]\n"
     ]
    }
   ],
   "source": [
    "DietaryRestrictions_df = pd.DataFrame(attributes_df['DietaryRestrictions'])\n",
    " \n",
    "# Apply the custom function to handle the text data\n",
    "DietaryRestrictions_df['DietaryRestrictions'] = DietaryRestrictions_df['DietaryRestrictions'].apply(safe_eval)\n",
    "DietaryRestrictions_df = pd.concat([DietaryRestrictions_df, DietaryRestrictions_df['DietaryRestrictions'].apply(pd.Series)], axis=1)\n",
    "DietaryRestrictions_df = DietaryRestrictions_df.drop(columns='DietaryRestrictions')\n",
    "DietaryRestrictions_df['business_id'] = attributes_df['business_id']\n",
    "print(DietaryRestrictions_df)"
   ]
  },
  {
   "cell_type": "code",
   "execution_count": 19,
   "metadata": {
    "execution": {
     "iopub.execute_input": "2023-10-31T01:22:53.688779Z",
     "iopub.status.busy": "2023-10-31T01:22:53.688357Z",
     "iopub.status.idle": "2023-10-31T01:28:27.574192Z",
     "shell.execute_reply": "2023-10-31T01:28:27.572951Z",
     "shell.execute_reply.started": "2023-10-31T01:22:53.688748Z"
    }
   },
   "outputs": [
    {
     "data": {
      "text/plain": [
       "150346"
      ]
     },
     "execution_count": 19,
     "metadata": {},
     "output_type": "execute_result"
    }
   ],
   "source": [
    "Parking_df.to_sql(name = \"businessparking\", con = engine, if_exists='replace', index=True, chunksize=50000)\n",
    "Ambience_df.to_sql(name = \"ambience\", con = engine, if_exists='replace', index=True, chunksize=50000)\n",
    "GoodForMeal_df.to_sql(name = \"goodformeal\", con = engine, if_exists='replace', index=True, chunksize=50000)\n",
    "Music_df.to_sql(name = \"music\", con = engine, if_exists='replace', index=True, chunksize=50000)\n",
    "BestNights_df.to_sql(name = \"bestnights\", con = engine, if_exists='replace', index=True, chunksize=50000)\n",
    "HairSpecializesIn_df.to_sql(name = \"hairspecializesin\", con = engine, if_exists='replace', index=True, chunksize=50000)\n",
    "DietaryRestrictions_df.to_sql(name = \"dietaryrestrictions\", con = engine, if_exists='replace', index=True, chunksize=50000)"
   ]
  }
 ],
 "metadata": {
  "kernelspec": {
   "display_name": "Python 3 (ipykernel)",
   "language": "python",
   "name": "python3"
  },
  "language_info": {
   "codemirror_mode": {
    "name": "ipython",
    "version": 3
   },
   "file_extension": ".py",
   "mimetype": "text/x-python",
   "name": "python",
   "nbconvert_exporter": "python",
   "pygments_lexer": "ipython3",
   "version": "3.11.4"
  }
 },
 "nbformat": 4,
 "nbformat_minor": 4
}
